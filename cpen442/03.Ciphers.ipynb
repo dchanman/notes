{
 "cells": [
  {
   "cell_type": "markdown",
   "metadata": {},
   "source": [
    "# Modes of Operation\n",
    "Modern block ciphers are codebooks\n",
    "\n",
    "## ECB - Electronic Code Book\n",
    "$$C_i = E_k(m_i)$$\n",
    "\n",
    "**Encrypt**\n",
    "* Take each block and encrypt it with the key\n",
    "* Concatenate all the blocks\n",
    "\n",
    "**Decrypt**\n",
    "* Do the opposite\n",
    "\n",
    "**Disadvantages**\n",
    "* Same plaintext blocks have same ciphertext blocks\n",
    "    * This is why we only use ECB mode for short plaintexts\n",
    "* Attacker can add arbitrary blocks to the ciphertext and essentially modify the plaintext\n",
    "\n",
    "## CBC - Cipher Block Chaining\n",
    "Chain the blocks so that each next cipher block depends on the previous cipher block\n",
    "\n",
    "$$C_i = E_k(m_i \\oplus C_{i-1})$$\n",
    "\n",
    "There is an init vector (IV) which is a random number to be the $C_0$ base case\n",
    "\n",
    "**Decrypt**\n",
    "* You can start from the beginning, you don't have to do it backwards\n",
    "\n",
    "$$m_i = D_k(C_i) \\oplus C_{i-1}$$\n",
    "\n",
    "**Disadvantages**\n",
    "* You have to wait for all previous blocks to finish before you can encrypt the next one\n",
    "* This is important for throughput"
   ]
  }
 ],
 "metadata": {
  "anaconda-cloud": {},
  "kernelspec": {
   "display_name": "Python [Root]",
   "language": "python",
   "name": "Python [Root]"
  },
  "language_info": {
   "codemirror_mode": {
    "name": "ipython",
    "version": 3
   },
   "file_extension": ".py",
   "mimetype": "text/x-python",
   "name": "python",
   "nbconvert_exporter": "python",
   "pygments_lexer": "ipython3",
   "version": "3.5.2"
  }
 },
 "nbformat": 4,
 "nbformat_minor": 0
}
