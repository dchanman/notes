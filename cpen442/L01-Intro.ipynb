{
 "cells": [
  {
   "cell_type": "markdown",
   "metadata": {},
   "source": [
    "# TA\n",
    "Ildar Muslukhov\n",
    "* KAIS4085, Mondays after 11AM\n",
    "* ildar.muslukhov at rallyteam dotcom\n",
    "\n",
    "Rallyteam hosting Vancouver Startup Week with BCLC (Lottery Corp) - **RallyteamVIP**\n",
    "\n",
    "## Projects\n",
    "\n",
    "**Analysis**: The risky exciting ones.\n",
    "* Ildar already has 3 preapproved projects:\n",
    "    * Hacking Rallyteam\n",
    "\n",
    "**Design**: The hard boring ones.\n",
    "\n",
    "### How to generate project ideas\n",
    "* Find something that annoys you and break it\n",
    "    * 2-person authentication\n",
    "    * external harddrive\n",
    "* It's hard to get 3rd party authorization, forget about banks\n",
    "\n",
    "### Online vs Offline Attacks\n",
    "* Online attacks actually poke the real system, and you won't actually be able to crack the system before getting locked out\n",
    "* Offline attacks give you unlimited pokes"
   ]
  }
 ],
 "metadata": {
  "anaconda-cloud": {},
  "kernelspec": {
   "display_name": "Python [Root]",
   "language": "python",
   "name": "Python [Root]"
  },
  "language_info": {
   "codemirror_mode": {
    "name": "ipython",
    "version": 3
   },
   "file_extension": ".py",
   "mimetype": "text/x-python",
   "name": "python",
   "nbconvert_exporter": "python",
   "pygments_lexer": "ipython3",
   "version": "3.5.2"
  }
 },
 "nbformat": 4,
 "nbformat_minor": 0
}
