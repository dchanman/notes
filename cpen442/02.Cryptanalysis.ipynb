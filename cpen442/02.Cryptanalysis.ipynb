{
 "cells": [
  {
   "cell_type": "markdown",
   "metadata": {},
   "source": [
    "# Basic Assumptions in Crypto (Kerckhoff's Principle)\n",
    "1. The system is completely known to the attacker\n",
    "2. Only the key is secret\n",
    "\n",
    "> The security of a cryptosystem must not depend on keeping secret the crypto-algorithm. The security depends only on *keeping secret the key*\n",
    "\n",
    "# Terminology\n",
    "* Cryptosystem is **secure** if the best known attack is to try all keys\n",
    "    * \"brute-force\" is slang, real term is **exhaustive-search of the keyspace/password space**\n",
    "* Cryptosystem is **insecure** if any shortcut attack is known\n",
    "* An insecure system might be harder to break than a secure system\n",
    "\n",
    "# Random Oracle Model (Anderson 5.3)\n",
    "\n",
    "> Aside: Very rarely will people design new cryptosystems. It's tremendously difficult to do them well\n",
    "\n",
    "What is a Random Oracle Model?\n",
    "\n",
    "Treat it like an abstraction:\n",
    "\n",
    "```\n",
    "Queries        =========================\n",
    "-------------> |                       |\n",
    "               |    Random Oracle      |  needs source of randomness + infinite storage\n",
    "               |                       |\n",
    "Responses      |                       |\n",
    "<------------- |                       |\n",
    "               =========================\n",
    "\n",
    "```\n",
    "\n",
    "## Important Properties\n",
    "Colloquially known as the hash function\n",
    "* input is a string of any length\n",
    "* output is a random string of fixed length\n",
    "\n",
    "* **Efficiency**: Easy to compute $h(x)$ for any $x$ (eg. hashing function)\n",
    "* **One-way**: Given $y$, it is infeasible to find $x$ such that $h(x) = y$\n",
    "* **Weak collision resistance**: Given $x$ and $h(x)$, it is infeasible to find $y != x$ where $h(y) = h(x)$\n",
    "* **Strong collision resistance**: It is infeasible to find $y != x$ where $h(y) = h(x)$\n",
    "\n",
    "## Applications\n",
    "* One-way functions\n",
    "* Hash functions"
   ]
  }
 ],
 "metadata": {
  "kernelspec": {
   "display_name": "Python [Root]",
   "language": "python",
   "name": "Python [Root]"
  },
  "language_info": {
   "codemirror_mode": {
    "name": "ipython",
    "version": 3
   },
   "file_extension": ".py",
   "mimetype": "text/x-python",
   "name": "python",
   "nbconvert_exporter": "python",
   "pygments_lexer": "ipython3",
   "version": "3.5.2"
  }
 },
 "nbformat": 4,
 "nbformat_minor": 0
}
