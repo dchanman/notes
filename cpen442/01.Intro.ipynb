{
 "cells": [
  {
   "cell_type": "markdown",
   "metadata": {},
   "source": [
    "# We're fucked."
   ]
  },
  {
   "cell_type": "markdown",
   "metadata": {},
   "source": [
    "[Course Calendar](https://courses.ece.ubc.ca/cpen442/calendar.html)\n",
    "\n",
    "Gotta get TopHat to take quizzes\n",
    "\n",
    "Project is difficult."
   ]
  },
  {
   "cell_type": "markdown",
   "metadata": {},
   "source": [
    "# Introduction to Computer Security\n",
    "\n",
    "**What is computer security?**\n",
    "* Security is *safety* or *freedom from worry*, confidence, certainty\n",
    "\n",
    "**Risk Management**\n",
    "* $Risk = Asset \\times Vulnerability \\times Threat$\n",
    "* avoid, transfer, reduce, accept"
   ]
  }
 ],
 "metadata": {
  "anaconda-cloud": {},
  "kernelspec": {
   "display_name": "Python [Root]",
   "language": "python",
   "name": "Python [Root]"
  },
  "language_info": {
   "codemirror_mode": {
    "name": "ipython",
    "version": 3
   },
   "file_extension": ".py",
   "mimetype": "text/x-python",
   "name": "python",
   "nbconvert_exporter": "python",
   "pygments_lexer": "ipython3",
   "version": "3.5.2"
  }
 },
 "nbformat": 4,
 "nbformat_minor": 0
}
