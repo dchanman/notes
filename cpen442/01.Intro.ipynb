{
 "cells": [
  {
   "cell_type": "markdown",
   "metadata": {},
   "source": [
    "[Course Calendar](https://courses.ece.ubc.ca/cpen442/calendar.html)\n",
    "\n",
    "Gotta get TopHat to take quizzes\n",
    "\n",
    "Project is difficult."
   ]
  },
  {
   "cell_type": "markdown",
   "metadata": {},
   "source": [
    "# Introduction to Computer Security\n",
    "\n",
    "**What is computer security?**\n",
    "* Security is *safety* or *freedom from worry*, confidence, certainty\n",
    "\n",
    "**Risk Management**\n",
    "* $Risk = Asset \\times Vulnerability \\times Threat$\n",
    "* avoid, transfer, reduce, accept"
   ]
  },
  {
   "cell_type": "markdown",
   "metadata": {},
   "source": [
    "---\n",
    "\n",
    "*Tuesday September 13*\n",
    "\n",
    "---"
   ]
  },
  {
   "cell_type": "markdown",
   "metadata": {},
   "source": [
    "> How worried are you about the security of your computer smartphone? (1-10)\n",
    ">\n",
    "> How worried are you about quiz 0?\n",
    "\n",
    "Keep in mind that a user's state of mind plays a large role on a security perception"
   ]
  },
  {
   "cell_type": "markdown",
   "metadata": {},
   "source": [
    "# Terminology\n",
    "* **Owners**\n",
    "* **Countermeasures**\n",
    "* **Threat Agents** - an attacker\n",
    "* **Threats**\n",
    "* **Vulnerabilities**\n",
    "* **Risk**\n",
    "* **Assets**\n",
    "\n",
    "## Goals of Computer Security\n",
    "* **Deter** attacks\n",
    "* **Prevent** attackers from violating security policy\n",
    "* **Detect** attackers violation of security policy\n",
    "* **Recovery** to stop attack access, repair damage, and continue to function correctly\n",
    "* **Investigate** how the attack was executed and decide what to change to reduce risk\n",
    "\n",
    "### Case: Conventional fortress-based security\n",
    "* **Goal**: Prevent people from violating system's security policy\n",
    "* **Means**: fortification (eg. walls, moats)\n",
    "    * provides safety, involves layers, expensive, requires maintenance, eventually compromised\n",
    "    * No absolute safety, one weakness sufficient, extra layers cost \\$\\$\n",
    "    * Important to understand threats, limited defender resources, prepare, adjust, etc\n",
    "    * Distinguish noncombatants from attackers, containment\n",
    "\n",
    "**Principle of Least Privilege**: Only give users as little privilege as possible in case they get compromised"
   ]
  }
 ],
 "metadata": {
  "anaconda-cloud": {},
  "kernelspec": {
   "display_name": "Python [Root]",
   "language": "python",
   "name": "Python [Root]"
  },
  "language_info": {
   "codemirror_mode": {
    "name": "ipython",
    "version": 3
   },
   "file_extension": ".py",
   "mimetype": "text/x-python",
   "name": "python",
   "nbconvert_exporter": "python",
   "pygments_lexer": "ipython3",
   "version": "3.5.2"
  }
 },
 "nbformat": 4,
 "nbformat_minor": 0
}
