{
 "cells": [
  {
   "cell_type": "markdown",
   "metadata": {},
   "source": [
    "# Addressing: Routing to another LAN\n",
    "\n",
    "* A creates IP datagram with source IP A, dest IP B\n",
    "* A then creates a link-layer frame with an **intermediate router's** MAC address, note that this may not be B's MAC address!\n",
    "* At the router, it removes the frame, observes the IP datagram, then re-frames it to the next link\n",
    "\n",
    "**MAC address is used in link-layer frames to send messages from link to link**\n"
   ]
  },
  {
   "cell_type": "markdown",
   "metadata": {},
   "source": [
    "# Ethernet\n",
    "\n",
    "The most dominant wired LAN technology\n",
    "* Inexpensive, first widely used, simpler, can support good speeds (10 Mbps - 100 Gbps)\n",
    "\n",
    "## Topologies\n",
    "* **Bus**: Coaxial cable: popular through mid-90s\n",
    "    * all nodes can collide with each other\n",
    "* **Star**: prevails today\n",
    "    * each branch runs a separate Ethernet protocol and do not collide with one another\n",
    "    \n",
    "## Frame Structure\n",
    "* 8 byte preamble\n",
    "* 6 byte dest addr\n",
    "* 6 byte source addr\n",
    "* 2 byte type\n",
    "* 46 - 1500 byte payload\n",
    "* 4 byte CHC\n",
    "\n",
    "### Payload\n",
    "* Ethernet MTU (maximum transmission unit) is 1500 bytes\n",
    "* Minimum size of data field is 46 bytes - then excluding the preamble, there is 512 bytes\n",
    "    * If our frame is too short, then we might finish sending a frame before detecting a collision\n",
    "    \n",
    "### Preamble\n",
    "* Sending a sequence of 10101010 10101010 10101010 ... 10101011 in order to synchronize sender and receiver clock rates\n",
    "\n",
    "## Unreliable and connectionless\n",
    "* Binary (exponential_ backoff\n",
    "    * After *m*-th collision, it waits K * 512 bit times\n",
    "    * *K* is chosen from $\\{0, 1, 2, \\ldots, 2^{m-1}\\}$\n",
    "    * This 512 bits is the minimum size of an Ethernet frame!\n",
    "    \n",
    "    \n",
    "## 802.3 Ethernet Standards: Link and physical layers\n",
    "* Different speeds\n",
    "* Different physical layer media: fiber, cable\n",
    "\n",
    "### Switch: self-learning\n",
    "* switch learns which hosts can be reached through which interfaces\n",
    "    * if it knows the MAC address, it just forwards\n",
    "    * if it doesn't it floods all other links with the message\n",
    "    * the one that replies contains the destination host, the switch records this and learns\n",
    "    \n",
    "Note that switches and routers are similar, but operate on different layers\n",
    "* both use store-and-forward\n",
    "* both use forwarding tables"
   ]
  },
  {
   "cell_type": "markdown",
   "metadata": {},
   "source": [
    "# Data Center Networks\n",
    "Many many hosts, often closely coupled, in close proximity\n",
    "* e-business (eg. Amazon)\n",
    "* content servers (eg. YouTube)\n",
    "* search and datamining (eg. Google)\n",
    "\n",
    "Challenges\n",
    "* load balancing, avoid processing, avoid bottlenecks\n",
    "\n",
    "## Load balancer: Application-layer routing\n",
    "* Receives external client requests\n",
    "* Directs workload within data center\n",
    "* Returns result from client\n"
   ]
  },
  {
   "cell_type": "markdown",
   "metadata": {},
   "source": [
    "# Clickers\n",
    "\n",
    "What human analogy is the CSMA part of CSMA/CD?\n",
    "* listen before talking\n",
    "* The \"stop talking if someone else is talking\" is the CD part"
   ]
  }
 ],
 "metadata": {
  "kernelspec": {
   "display_name": "Python 3",
   "language": "python",
   "name": "python3"
  },
  "language_info": {
   "codemirror_mode": {
    "name": "ipython",
    "version": 3
   },
   "file_extension": ".py",
   "mimetype": "text/x-python",
   "name": "python",
   "nbconvert_exporter": "python",
   "pygments_lexer": "ipython3",
   "version": "3.5.1"
  }
 },
 "nbformat": 4,
 "nbformat_minor": 0
}
