{
 "cells": [
  {
   "cell_type": "markdown",
   "metadata": {},
   "source": [
    "# Recall\n",
    "### Comparison of LS and DV Algorithms\n",
    "**LS** was Dijkstra: requires global knowledge  \n",
    "**DV** was centralized: requires iterative sharing with neighbours\n",
    "### Hierarchial Routing\n",
    "* Can't use flat network for the whole world, there are too many hosts (scaling issue) and admin autonomy issues\n",
    "* Make the internet a network of networks\n",
    "    * Divide network into *Autonomous Systems* (AS)\n",
    "    * Intra-AS routing protocols for routing within an AS\n",
    "    * Inter-AS routing protocols for routing outside\n",
    "    * Gateway routers at edge of an AS connected to another AS\n",
    "    * **Hot Potato Routing**: pass a packet to least cost path if you don't know how to get to the destination\n",
    "* Common intra-AS routing protocols\n",
    "    * RIP - routing information protocol\n",
    "    * OSPF - open shortest path first\n",
    "    * EIGRP - interior gateway routing protocol (Cisco proprietary)"
   ]
  },
  {
   "cell_type": "markdown",
   "metadata": {},
   "source": [
    "# RIP (Routing Information Protocol)\n",
    "**Distance Vector** algorithm\n",
    "* Distance metric: #hops\n",
    "    * 1 hop means you're directly connected\n",
    "    * 2 hops means you have to go to a neighbour, who is directly connected\n",
    "    * ad nauseum...\n",
    "* DVs echanged with neighbours every 30 seconds (RIP advertisement/response msg)\n",
    "* Each advertisement has a list of up to 25 subnets\n",
    "\n",
    "The protocol keeps track of\n",
    "* Destination Subnet\n",
    "* Next Router - adjacent router to pass to\n",
    "* Hops to Dest\n",
    "\n",
    "When we get updates from adverts, we just take minimums from the new updates\n",
    "\n",
    "**180 sec timeout**: neighbout/link declared dead\n",
    "* invalidate routes via neighbour\n",
    "* new advertisements sent to neighbours\n",
    "* dead news spreads quickly\n",
    "* **Poison reverse** used to prevent ping-pong loops (infinite distance = 16 hops)\n",
    "\n",
    "Typically implemented by app-level process called *route-d*\n",
    "* UDP advertisements, peridically repeated"
   ]
  },
  {
   "cell_type": "markdown",
   "metadata": {},
   "source": [
    "# OSPF (Open Shortest Path First)\n",
    "Open as in *publicly available*\n",
    "\n",
    "**Link State** algorithm\n",
    "* topology map at each note\n",
    "* route computation using Dijkstra\n",
    "\n",
    "Each OSPF advertisement carries one entry per neighbour, *flooded* to entire AS\n",
    "\n",
    "## Advanced features\n",
    "* **Security**: OSPF msgs authenticated\n",
    "* Multiple same-cost paths allowed (only 1 in RIP)\n",
    "* Multiple cost metrics for different ToS (eg. *low satellite link* for best effort, high for real-time)\n",
    "* Integrated unicast and multicast support\n",
    "* Hierarchial OSPF in large domains\n",
    "\n",
    "### Hierarchial OSPF\n",
    "* Boundary router to connect to external AS\n",
    "* Backbone routers \n",
    "    * Run OSPF routing limited to backbone\n",
    "* Area border routers\n",
    "    * Summarize distances to other area border routers\n",
    "* Internal routers for local areas"
   ]
  },
  {
   "cell_type": "markdown",
   "metadata": {},
   "source": [
    "# Internet inter-AS routing: BGP (Border Gateway Protocol)\n",
    "This is the *glue that holds the internet together*\n",
    "\n",
    "Provides each AS a means to\n",
    "* **eBGP**: external\n",
    "    * obtain subnet reachability information from neighbouring ASs\n",
    "* **iBGP**: internal\n",
    "    * propagate reliability info to all internal routers in the AS\n",
    "\n",
    "## Basics\n",
    "**BGP Session**: two BGP routers (peers) exchange msgs\n",
    "* advertise paths to different dest. network prefixes (\"path vector\" protocol)\n",
    "* semi-persistent TCP\n",
    "\n",
    "**Distributing path information**\n",
    "* propagating information\n",
    "    * external info comes into a subnet to an edge router\n",
    "    * edge router passes info internally to all edge routers\n",
    "    * edge routes relay information to external ASs\n",
    "* advertisements may be batched\n",
    "* send prefix reachability\n",
    "* create/update entry for prefix in forwarding table\n",
    "\n",
    "BGP is very money-oriented. People can filter and monitor routing information\n",
    "\n",
    "## Path Attributes and BGP Routes\n",
    "* Advertised prefix includes some attributes: `prefix + attrs = route`\n",
    "* Attrs:\n",
    "    * `AS-PATH`: ASs through which prefix advert has passed\n",
    "    * `NEXT-HOP`: your edge router in your AS to get the whole process started\n",
    "\n",
    "## BGP Routing Policy\n",
    "* Large *provider networks*\n",
    "* Smaller *customer networks* of providers\n",
    "* **dual homed** networks are attached to two providers\n",
    "    * needs policies to prevent becoming a router for traffic between the two providers\n",
    "    * do not advertise path between providers\n",
    "    * B only wants to route to/from its *customers*, this is money driven!\n",
    "    \n",
    "## Intra vs Inter\n",
    "attr | Intra | Inter \n",
    "---|---|---\n",
    "policy | single admin, no policy decisions | admin wants control on how traffic is routed and who is routing\n",
    "scale | hierarchial routing saves table size\n",
    "performance | performance focussed | policy focussed\n"
   ]
  },
  {
   "cell_type": "code",
   "execution_count": null,
   "metadata": {
    "collapsed": true
   },
   "outputs": [],
   "source": []
  }
 ],
 "metadata": {
  "kernelspec": {
   "display_name": "Python 3",
   "language": "python",
   "name": "python3"
  },
  "language_info": {
   "codemirror_mode": {
    "name": "ipython",
    "version": 3
   },
   "file_extension": ".py",
   "mimetype": "text/x-python",
   "name": "python",
   "nbconvert_exporter": "python",
   "pygments_lexer": "ipython3",
   "version": "3.5.1"
  }
 },
 "nbformat": 4,
 "nbformat_minor": 0
}
