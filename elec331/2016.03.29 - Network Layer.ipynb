{
 "cells": [
  {
   "cell_type": "markdown",
   "metadata": {},
   "source": [
    "# Announcements\n",
    "\n",
    "**Quiz Coverage**: Network Layer"
   ]
  },
  {
   "cell_type": "markdown",
   "metadata": {},
   "source": [
    "# Intro to Link\n",
    "\n",
    "Two types of links\n",
    "* point-to-point\n",
    "* broadcast\n",
    "\n",
    "## Multiple Access Protocols\n",
    "* Single shared broadcast channel used by many\n",
    "* Collision happens if a node receives 2+ signals at the same time\n",
    "\n",
    "**Multiple access protocols**\n",
    "* distributed algorithm that determines how nodes share channel\n",
    "* note that communication about channel must use the channel itself! no out-of band communication\n",
    "\n",
    "### Idealizations\n",
    "* when a node wants to transmit, it can send at rate *R*\n",
    "* multiple nodes M can each send an average $\\frac{R}{M}$ rate\n",
    "* fully decentralized\n",
    "    * no special node to coordinate transmissions\n",
    "    * no synchronization of clocks or slots\n",
    "* simple and inexpensive to implement\n",
    "\n",
    "### MAC protocols: taxonomy\n",
    "* **Channel Partitioning**\n",
    "    * time division (TDMA), frequency division (FDMA), code\n",
    "* **Taking turns**\n",
    "    * some nodes can take longer turns to send more data\n",
    "* **Random access**\n",
    "    * allow collisions and allow recovery\n",
    "    \n",
    "Many Internet MAC protocols are random access.\n",
    "\n",
    "#### Random Access Protocols\n",
    "* Node transmit at full data rate\n",
    "* When collision, try to recover\n",
    "* ALOHA, CSMA, CSMA/CD, CSMA/CA, slotted ALOHA"
   ]
  }
 ],
 "metadata": {
  "kernelspec": {
   "display_name": "Python 3",
   "language": "python",
   "name": "python3"
  },
  "language_info": {
   "codemirror_mode": {
    "name": "ipython",
    "version": 3
   },
   "file_extension": ".py",
   "mimetype": "text/x-python",
   "name": "python",
   "nbconvert_exporter": "python",
   "pygments_lexer": "ipython3",
   "version": "3.5.1"
  }
 },
 "nbformat": 4,
 "nbformat_minor": 0
}
