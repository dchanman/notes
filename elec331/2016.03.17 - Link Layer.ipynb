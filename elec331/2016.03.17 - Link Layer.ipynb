{
 "cells": [
  {
   "cell_type": "markdown",
   "metadata": {},
   "source": [
    "# Routing Algorithm Classification\n",
    "**Global**\n",
    "* all routers have complete topology, link cost info\n",
    "* **link state** algs\n",
    "\n",
    "**Decentralized**\n",
    "* router knows physically connected neighbours and link cost only\n",
    "* iterative process of computation, exchange of info with neighbours\n",
    "* **distance vector** algs\n",
    "\n",
    "**Static**\n",
    "* routes change slowly over time\n",
    "\n",
    "**Dynamic**\n",
    "* routes change more quickly\n",
    "* periodic updates"
   ]
  },
  {
   "cell_type": "markdown",
   "metadata": {},
   "source": [
    "# Routing Algorithms\n",
    "\n",
    "## Link State Algorithm\n",
    "Using *Dijkstra's Algorithm*: find the shortest path through all notes\n",
    "\n",
    "## Distance Vector Algorithm\n",
    "Using the *Bellman-Ford* equation (dynamic programming):\n",
    "$$x = y$$\n",
    "$$d_x(y) = \\text{cost of least-cost path from x to y} $$\n",
    "$$D_x(y) = \\text{estimate of least cost from x to y} $$\n",
    "\n",
    "Characteristics:\n",
    "* iterative, asynchronous\n",
    "    * local iterations caused by changes in link cost or updates from neighbours\n",
    "* distributed\n",
    "    * each node notifies neighbours *only* when DV (distance vector) changes\n",
    "    \n",
    "> *Good news travels fast*\n",
    "\n",
    "When link costs changes occurs, a node detects it, updates its routing info, recalculates DV, notifies neighbours\n",
    "\n",
    "> *Bad news travels slow*\n",
    "\n",
    "When a link cost goes up, it takes the network a long time to stabilize and update. This is the result of loops (X->Y slows, Z routes to X through Y, Z and Y take a bunch of iterations to realize Z->X is the shortest route)\n",
    "\n",
    "**Poisoned Reverse (white lie)**  \n",
    "If Z routes through Y to get to X, Z will tell Y that Z's distance to X is infinite\n",
    "* then Y won't route to X via Z\n",
    "\n",
    "## Comparison\n",
    "Algorithm | LS | DV |\n",
    "---|---|---\n",
    "Message Complexity | with `n` nodes, `E` links, $O(nE)$ msgs sent | exchange only with neighbours\n",
    "Speed of convergence | $O(n^2)$ algorithm needs $O(nE)$ msgs, can have oscillations | Convergence times vary (counting loops, count-to-inf problem)\n",
    "Robustness | Advertise incorrect link cost | Can advertise incorrect path cost\n"
   ]
  },
  {
   "cell_type": "markdown",
   "metadata": {},
   "source": [
    "# Hierarchical Routing\n",
    "Our ideal assumptions that are incorrect:\n",
    "* all routers are identical\n",
    "* network is flat\n",
    "\n",
    "**Issues**:\n",
    "* **Scale**: with 600 million destinations, we can't store them all in routing tables!\n",
    "    * RT exchange would swamp links\n",
    "* **Administrative Autonomy**: Internet is a network of networks\n",
    "    * netadmins want control routing inside their own networks\n",
    "    \n",
    "## Hierarchical Routers\n",
    "Use a single router to represent a subnet. These routers (Autonomous System *AS*) talk to each other.\n",
    "* Need inter-AS and intra-AS routing information in forwarding table\n",
    "\n",
    "In order to route to a different subnet, the inter-AS routing protocol has you covered!\n",
    "\n",
    "**Gateway**: Routers connecting multiple ASs\n",
    "\n",
    "**Hot Potato Routing**: Send two packets, one to each of the closest two gateways in the subnet. Let them figure out the rest\n",
    "\n",
    "# Intra-AS Routing\n",
    "Determines **how routing is performed within an AS**, AKA **interior gateway protocols (IGP)**\n",
    "\n",
    "## RIP - Routing Information Protocol\n",
    "Included in BSD-LINUX in 1982, distance vector algorithm"
   ]
  }
 ],
 "metadata": {
  "kernelspec": {
   "display_name": "Python 3",
   "language": "python",
   "name": "python3"
  },
  "language_info": {
   "codemirror_mode": {
    "name": "ipython",
    "version": 3
   },
   "file_extension": ".py",
   "mimetype": "text/x-python",
   "name": "python",
   "nbconvert_exporter": "python",
   "pygments_lexer": "ipython3",
   "version": "3.5.1"
  }
 },
 "nbformat": 4,
 "nbformat_minor": 0
}
