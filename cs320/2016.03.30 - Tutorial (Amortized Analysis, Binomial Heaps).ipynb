{
 "cells": [
  {
   "cell_type": "markdown",
   "metadata": {},
   "source": [
    "# Question 1\n",
    "\n",
    "Consider a **min-heap**. We know `insert` and `deleteMin` are in $O(logn)$. Give a potential function $\\Phi$ to make the amortized cost of `insert` to be $O(logn)$ and `deleteMin` to be $O(1)$\n",
    "\n",
    "---\n",
    "\n",
    "Since we need `deleteMin` to be in $O(1)$, we need the change in potential to drop by $O(logn)$.\n",
    "\n",
    "Consider depths. The depth of a leaf node is $log(n)$.\n",
    "\n",
    "Then let our potential function be\n",
    "$$\\Phi = \\sum_{\\text{nodes }N\\in D_i} depth(N)$$\n",
    "\n",
    "We can verify:\n",
    "\n",
    "$\n",
    "\\text{cost}_{am}(INSERT) = O(logn) + O(logn) \\in O(logn) \\\\\n",
    "\\text{cost}_{am}(DELETEMIN) = O(logn) + O(-logn) = 0 \\in O(1)\n",
    "$"
   ]
  },
  {
   "cell_type": "markdown",
   "metadata": {},
   "source": [
    "# Question 2a\n",
    "\n",
    "Given a graph as a linear list of nodes with weight values $w_i$, give the recurrences for `with[i]` and `without[i]`\n",
    "\n",
    "* `with[i]` is the maximum sum of nonconsecutive numbers including element `i` at the end\n",
    "* `without[i]` is the maximum sum of nonconsecutive numbers excluding element `i` at the end\n",
    "\n",
    "$\n",
    "with[i] = w_i + without[i-1], (i > 1) \\\\\n",
    "without[i] = \\text{max}(with[i-1], without[i-1]), (i > 1)\n",
    "$\n",
    "\n",
    "And base cases:  \n",
    "$\n",
    "with[1] = w_1 \\\\\n",
    "without[1] = 0\n",
    "$\n",
    "\n",
    "Know that for dynamic programming recurrences, we typically see max/min functions."
   ]
  },
  {
   "cell_type": "markdown",
   "metadata": {},
   "source": [
    "# Question 2b\n",
    "\n",
    "Say we have a calling tree. Each turn you can call one person. That person in the next round can call another person. Find the minimum number of rounds to call all children.\n",
    "\n",
    "$\n",
    "R(x) = \\text{max}_{i=1}^k\\{i + R(C_i) \\}\n",
    "$"
   ]
  }
 ],
 "metadata": {
  "kernelspec": {
   "display_name": "Python 3",
   "language": "python",
   "name": "python3"
  },
  "language_info": {
   "codemirror_mode": {
    "name": "ipython",
    "version": 3
   },
   "file_extension": ".py",
   "mimetype": "text/x-python",
   "name": "python",
   "nbconvert_exporter": "python",
   "pygments_lexer": "ipython3",
   "version": "3.5.1"
  }
 },
 "nbformat": 4,
 "nbformat_minor": 0
}
