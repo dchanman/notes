{
 "cells": [
  {
   "cell_type": "markdown",
   "metadata": {},
   "source": [
    "# Weighted Interval Scheduling Continued\n",
    "\n",
    "Our W array will dynamically determine the optimal final interval to be added.\n",
    "\n",
    "Backtracking on W will allow us to determine all of the intervals that we added."
   ]
  },
  {
   "cell_type": "markdown",
   "metadata": {},
   "source": [
    "# Solving Other Dynamic Programming Problems\n",
    "**Step 1:** Define subproblems\n",
    "\n",
    "### Example: Max Sum Subarray Problem\n",
    "Given array `A[1...n]`, find the subarray `A[i...j]` with max sum.\n",
    "\n",
    "```\n",
    "S'[i] = max(A[i], A[i] + S'[i-1])\n",
    "\n",
    "```\n",
    "\n",
    "**Step 2:** Determine which order to fill the memoization table\n",
    "\n",
    "In our example above, we want to fill our S table from left to right.\n",
    "\n",
    "Base case: `S[1] = A[1]`\n",
    "\n",
    "**Step 3:** Implement and solve\n",
    "\n",
    "```\n",
    "S'[1] = A[1]\n",
    "for i = 2 to n\n",
    "    S'[i] = max(A[i], A[i] + S'[i-1]\n",
    "    \n",
    "return max(S'[j])\n",
    "```\n",
    "\n",
    "This algorithm would run in `O(n)` time\n",
    "\n",
    "**Step 4:** Backtrack\n",
    "```\n",
    "j = recordj\n",
    "i = j\n",
    "while record[i] = \"with\"\n",
    "    i = i+1\n",
    "end while\n",
    "\n",
    "return (i, j)\n",
    "\n",
    "```\n",
    "\n",
    "This backtracking takes `O(n)`\n",
    "\n",
    "## Example: Coin change problem\n",
    "Given a set of coin denominations `c1, ..., ck` and an amount A, find the smallest number of coins with total value equal to A.\n"
   ]
  }
 ],
 "metadata": {
  "kernelspec": {
   "display_name": "Python 3",
   "language": "python",
   "name": "python3"
  },
  "language_info": {
   "codemirror_mode": {
    "name": "ipython",
    "version": 3
   },
   "file_extension": ".py",
   "mimetype": "text/x-python",
   "name": "python",
   "nbconvert_exporter": "python",
   "pygments_lexer": "ipython3",
   "version": "3.5.1"
  }
 },
 "nbformat": 4,
 "nbformat_minor": 0
}
