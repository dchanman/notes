{
 "cells": [
  {
   "cell_type": "markdown",
   "metadata": {},
   "source": [
    "# Question 1\n",
    "\n",
    "## Dynamic Programming Algorithm\n",
    "\n",
    "We will work backwards in our problem, starting at the final day we need to be at UBC.\n",
    "\n",
    "\n",
    "\n",
    "## Complexity\n",
    "\n",
    "We iterate through all of the `n` days.  \n",
    "For each day, we have to make `k` computations and then find the minimum.\n",
    "\n",
    "Overall the time complexity is O(nk)"
   ]
  },
  {
   "cell_type": "code",
   "execution_count": 89,
   "metadata": {
    "collapsed": false
   },
   "outputs": [
    {
     "name": "stdout",
     "output_type": "stream",
     "text": [
      "[{'value': 30, 'day': 1}, {'value': 7, 'day': 33}]\n"
     ]
    }
   ],
   "source": [
    "#################################################################\n",
    "# Problem parameters\n",
    "#################################################################\n",
    "P = [\n",
    "    {\n",
    "        'duration': 1,\n",
    "        'cost': 8.25\n",
    "    },\n",
    "    {\n",
    "        'duration': 7,\n",
    "        'cost': 32\n",
    "    },\n",
    "    {\n",
    "        'duration': 30,\n",
    "        'cost': 94.75\n",
    "    }\n",
    "]\n",
    "\n",
    "D = [2,3,5,6,7,9,10,11,12]\n",
    "\n",
    "#################################################################\n",
    "# Solution algorithm\n",
    "#################################################################\n",
    "def solve(D, P):\n",
    "    d_index = len(D) - 1\n",
    "    cumulativeCost = [0 for x in range(D[d_index])]\n",
    "    backtrack = [-1 for x in range(D[d_index])]\n",
    "    \n",
    "    # Dynamic Programming: Find the solution:\n",
    "    for i in range(len(cumulativeCost) - 1, -1, -1):\n",
    "        if (D[d_index] - 1 == i): # Note days are 0-indexed but Python lists are 1-indexed\n",
    "            d_index = d_index - 1\n",
    "            \n",
    "            costs = list()\n",
    "            for p in P:\n",
    "                if (p['duration'] + i >= len(cumulativeCost)):\n",
    "                    curCost = p['cost'] + 0\n",
    "                else:\n",
    "                    curCost = p['cost'] + cumulativeCost[p['duration'] + i]\n",
    "                    \n",
    "                costs.append(curCost)\n",
    "            \n",
    "            cumulativeCost[i] = min(costs)\n",
    "            backtrack[i] = costs.index(min(costs))\n",
    "        else:\n",
    "            cumulativeCost[i] = cumulativeCost[i+1]\n",
    "    \n",
    "    # Dynamic Programming: Backtrack for the solution sequence:\n",
    "    solution = list()\n",
    "    \n",
    "    # Janky for-loop, we can't use python's regular syntax\n",
    "    # or else we can't skip items (the i + P[backtrack...] part)\n",
    "    # Essentially\n",
    "    # for (i = 0l i < len(cumulativeCost); i++)\n",
    "    i = 0\n",
    "    while (i < len(cumulativeCost)):\n",
    "        if (backtrack[i] != -1):\n",
    "            solution.append({\n",
    "                    'day': i + 1, # Note python arrays are 0-indexed, days are 1-indexed\n",
    "                    'value': P[backtrack[i]]['duration']\n",
    "                })\n",
    "            i = i + P[backtrack[i]]['duration']\n",
    "        else:\n",
    "            i = i + 1\n",
    "    \n",
    "    return solution\n",
    "\n",
    "solution = solve(D, P)\n",
    "print(solution)"
   ]
  }
 ],
 "metadata": {
  "kernelspec": {
   "display_name": "Python 3",
   "language": "python",
   "name": "python3"
  },
  "language_info": {
   "codemirror_mode": {
    "name": "ipython",
    "version": 3
   },
   "file_extension": ".py",
   "mimetype": "text/x-python",
   "name": "python",
   "nbconvert_exporter": "python",
   "pygments_lexer": "ipython3",
   "version": "3.5.1"
  }
 },
 "nbformat": 4,
 "nbformat_minor": 0
}
