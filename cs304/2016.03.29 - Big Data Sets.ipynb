{
 "cells": [
  {
   "cell_type": "markdown",
   "metadata": {},
   "source": [
    "# Checking Sort paths (pipesort)\n",
    "\n",
    "Try to minimize the number of sort paths:\n",
    "\n",
    "```\n",
    "             ABC\n",
    "          /   |   \\\n",
    "         AB   BC   CA\n",
    "         | \\  | \\   |\n",
    "         A   B    C\n",
    "          \\  |   /\n",
    "             nil\n",
    "```\n",
    "In this way, we can use the fewest number of sort paths to determine group-bys\n",
    "\n",
    "The number of group-bys we can compute using *k* sort passes in a *k*-dimensional cube\n",
    "$$ (k+1) + (k+1)(k+1) \\text{ out of } 2^k \\text{ group-bys.} $$"
   ]
  },
  {
   "cell_type": "markdown",
   "metadata": {},
   "source": [
    "# Finding cube values with partial materialization\n",
    "\n",
    "> Given a space limitation, which partial materialized tables would you select for a group by?\n",
    "\n",
    "The problem is: given a bunch of subsets, find a collection of them that can produce the most results.\n",
    "\n",
    "(NP-hard problem. Easy to verify, hard to solve)\n",
    "\n",
    "## Simple Greedy Algorithm\n",
    "\n",
    "```\n",
    "while j < k {\n",
    "    Selct Xij such that ( Xij \\ U Solution ) is max\n",
    "}\n",
    "```\n",
    "\n",
    "This is taking the marginal gain.\n",
    "\n",
    "This guarantees a $(1 - \\frac{1}{e})$ approximation to the optimal solution. (eg. guaranteed to cover at least 63%)\n",
    "\n",
    "The reason why this works is because it covers these properties:\n",
    "* **max-k cover**: coverage is monotone. More subsets cannot cover fewer elements\n",
    "* **submodularity**: marginalal gain is the number of additional elements a subset introduces\n",
    "\n",
    "**Theorem: Nemhauser Fisher Wolsey 1979**"
   ]
  }
 ],
 "metadata": {
  "kernelspec": {
   "display_name": "Python 3",
   "language": "python",
   "name": "python3"
  },
  "language_info": {
   "codemirror_mode": {
    "name": "ipython",
    "version": 3
   },
   "file_extension": ".py",
   "mimetype": "text/x-python",
   "name": "python",
   "nbconvert_exporter": "python",
   "pygments_lexer": "ipython3",
   "version": "3.5.1"
  }
 },
 "nbformat": 4,
 "nbformat_minor": 0
}
