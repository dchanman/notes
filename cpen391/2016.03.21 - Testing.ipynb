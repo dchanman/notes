{
 "cells": [
  {
   "cell_type": "markdown",
   "metadata": {},
   "source": [
    "# Engineering Ethics\n",
    "* Engineers need to take an **active role** for safety\n",
    "* Need to stay **up-to-date** with **best practices** in your field. Ignorance is not a valid excuse. You must maintain your competencies. Other PEng's may be called to testify against you.\n",
    "* Agile approaches are not acceptable in **safety critical systems** which require mathematical proofs, comprehensive modelling, and strict documentation\n",
    "* Health and safety is paramount (eg. VW)\n",
    "\n",
    "## Case Study: Train Crossing\n",
    "Traffic light software issue that prioritized pedestrian crossings over train crossings trapped cars in an intersection. Result was a school bus that was taken out with many passengers killed.\n",
    "\n",
    "[Wiki Link](https://en.wikipedia.org/wiki/1995_Fox_River_Grove_bus%E2%80%93train_collision)\n",
    "\n",
    "## Case Study: Mariner 1 Venus Probe\n",
    "\n",
    "```fortran\n",
    "DO 5 K = 1.3\n",
    "```\n",
    "The `.` should've been a `,`. This bug in the guidance software caused the rocket to veer off course. \n",
    "\n",
    "## Continued Learning\n",
    "* Recall 30 years ago, programmers were learning Pascal and LISP\n",
    "    * Java and C are the top two TIOBE languages\n",
    "* *Half-Life* of Engineering Knowledge is how much of what you know goes out of date:\n",
    "    * SW Engineering: 2.5 years\n",
    "    * Electrical Engineering: 5 years\n",
    "    * Other Engineering: 7 years\n",
    "* Training resources: will your employer support you?\n",
    "\n",
    "# Assignment: Professionalism and Role of Engineer Exercise\n",
    "\n",
    "Brainstorm with your group and reflect about what the following means to you:\n",
    "1. Professionalism\n",
    "2. The role of Computer and Software Engineering in Society\n",
    "\n",
    "Summarize points 1-2 above in **two separate** 300-500 word essays. Due on **April 11th**.\n",
    "\n"
   ]
  }
 ],
 "metadata": {
  "kernelspec": {
   "display_name": "Python 3",
   "language": "python",
   "name": "python3"
  },
  "language_info": {
   "codemirror_mode": {
    "name": "ipython",
    "version": 3
   },
   "file_extension": ".py",
   "mimetype": "text/x-python",
   "name": "python",
   "nbconvert_exporter": "python",
   "pygments_lexer": "ipython3",
   "version": "3.5.1"
  }
 },
 "nbformat": 4,
 "nbformat_minor": 0
}
