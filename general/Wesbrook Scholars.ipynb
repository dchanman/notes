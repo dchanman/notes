{
 "cells": [
  {
   "cell_type": "markdown",
   "metadata": {},
   "source": [
    "# Wesbrook Scholars\n",
    "\n",
    "Awarded\n",
    "* 19 wesbrook ($1000)\n",
    "* 17 premier\n",
    "\n",
    "## Eligibility Criteria\n",
    "* Ability to work with and lead others\n",
    "* Student + community activities\n",
    "    * **Research Research Research!!!**\n",
    "* Sports\n",
    "* School nomination (ECE)\n",
    "\n",
    "## Nomination\n",
    "* APSC Paper Application due October 12th 4pm\n",
    "* http://students.ubc.ca/sites/students.ubc.ca/files/2016W%20-%20Premier%20Wesbrook%20-%20Application%20Form.pdf\n",
    "* Complete part A only\n",
    "    * Personal statement (500 word max)\n",
    "        * activities, accomplishments, future plans\n",
    "        * story, elabourate the details\n",
    "    * Statement of Activities (1 page max)\n",
    "        * Academic achievements + education\n",
    "            * Dean's List, years, etc.\n",
    "            * TREK scholarship\n",
    "        * University Activities, other activities\n",
    "        * Community and Volunteer Services\n",
    "        * Athletics\n",
    "* Stuff you've done **SINCE** coming to UBC, although things carrying over from High School are okay\n",
    "* Reference letters\n",
    "    * sealed envelope\n",
    "    * 2ish pages\n",
    "    \n",
    "## Timeline\n",
    "* Oct 21 - ECE will submit to enrollment services\n",
    "* December - Shortlisted finalists\n",
    "* Early January - Interviews\n",
    "* Late January - Finalists notified\n",
    "\n",
    "# Plan\n",
    "* Write my own application letter by Friday this week\n",
    "* Sandeep will be my community letter\n",
    "* Sasha will be my faculty letter\n"
   ]
  }
 ],
 "metadata": {
  "kernelspec": {
   "display_name": "Python [Root]",
   "language": "python",
   "name": "Python [Root]"
  },
  "language_info": {
   "codemirror_mode": {
    "name": "ipython",
    "version": 3
   },
   "file_extension": ".py",
   "mimetype": "text/x-python",
   "name": "python",
   "nbconvert_exporter": "python",
   "pygments_lexer": "ipython3",
   "version": "3.5.2"
  }
 },
 "nbformat": 4,
 "nbformat_minor": 0
}
