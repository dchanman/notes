{
 "cells": [
  {
   "cell_type": "markdown",
   "metadata": {},
   "source": [
    "# Background\n",
    "\n",
    "## AMD vs Intel\n",
    "* In 2006, AMD had a larger market share (+5%). Suddenly, in 2007, Intel overtook the lead (+14%)\n",
    "* Different architectures provide optimal solutions to certain problems\n",
    "    * AMD for bitcoin mining\n",
    "    * NVDIA for gaming\n",
    "\n",
    "## Introduction\n",
    "Everyone uses MIPS64 instruction set, so it's worth knowing it.\n",
    "\n",
    "### Task of the Computer Designer\n",
    "* Coordinate many levels of abstraction\n",
    "* Under a rapidly changing set of forces\n",
    "* Design, measure, evaluate"
   ]
  },
  {
   "cell_type": "markdown",
   "metadata": {},
   "source": [
    "# Quantitative Principles\n",
    "\n",
    "### *Make the Common Case Fast*\n",
    "* eg. ketchup bottle is upside down so that ketchup is always ready\n",
    "\n",
    "* Compilers (eg. GCC) will actually output different instructions depending on their era. The different combinations are a result of the trends of the current hardware\n",
    "\n",
    "> Two engineers argue. One wants a FP unit that improves division 40x. Another wants a general FP unit that improves everything by 1.5x. Which is better?\n",
    "* Application dependent\n",
    "\n",
    "### *Take Advantage of Parallelism*\n",
    "* **TLP**: Thread level: independent programs run on different processors\n",
    "* **DLP**: Data level: multiple instances of the same program on different input data\n",
    "* **ILP**: Instructions level: different instructions may be run simultaneously\n",
    "* Different parts in a digital circuit can be parallel during a clock cycle (eg. processes in VHDL architecture, pipelining)\n",
    "\n",
    "### *Principle of Locality*\n",
    "Real programs are not completely random; programs have structure and purpose. Many are quite predictable.\n",
    "\n",
    "* eg. programs spend 90% of the time executing 10% of code\n",
    "\n",
    "### *Bang for Buck (!/\\$)*\n",
    "\n",
    "### *Amdahl's Law*\n",
    "Gene Amdahl argued that it was very important to focus on a single processor/core since there is unparallelizable code that will always be the bottleneck.\n",
    "\n",
    "$$ Speedup = \\frac{ExTime_{old}}{ExTime_{new}} = \\frac{1}{(1 - Frac_{enhanced}) + \\frac{Frac_{enh}}{Speedup_{enh}}} $$\n",
    "\n",
    "---\n",
    "\n",
    "# Example: Floating Point (FP) Square Root (FPQSR)\n",
    "\n",
    "* 20% of ExTime due to FPSQR\n",
    "* 50% of ExTime due to **all** FP operations\n",
    "\n",
    "Two options:\n",
    "* Speedup FPSQR by factor of 10\n",
    "* Speedup all FP by a factor of 1.6\n",
    "\n",
    "Result:\n",
    "* FPSQR = 1.22 overall speedup\n",
    "* FP = 1.23 overall speedup"
   ]
  }
 ],
 "metadata": {
  "kernelspec": {
   "display_name": "Python [Root]",
   "language": "python",
   "name": "Python [Root]"
  },
  "language_info": {
   "codemirror_mode": {
    "name": "ipython",
    "version": 3
   },
   "file_extension": ".py",
   "mimetype": "text/x-python",
   "name": "python",
   "nbconvert_exporter": "python",
   "pygments_lexer": "ipython3",
   "version": "3.5.2"
  }
 },
 "nbformat": 4,
 "nbformat_minor": 0
}
