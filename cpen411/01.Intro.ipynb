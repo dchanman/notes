{
 "cells": [
  {
   "cell_type": "markdown",
   "metadata": {},
   "source": [
    "# Intro\n",
    "\n",
    "## Stack\n",
    "\n",
    "We are in the **ISA (Instruction Set Architecture)** part of the stack on top of the **microarchitecture**.\n",
    "\n",
    "The stack:\n",
    "* Problem\n",
    "* Algorithm\n",
    "* Program + OS + Network\n",
    "* **ISA**\n",
    "* **Microarchitecture**\n",
    "* Circuits\n",
    "* Electronic devices\n",
    "\n",
    "## Applications\n",
    "* Power constraints\n",
    "* Thermal constraints\n",
    "* Reliability constraints\n",
    "* Radiation constraints (eg. space)\n",
    "\n",
    "> Flying to the moon required a on-board navigator due to fears that the Russians would jam any outgoing signals for competition\n",
    "\n",
    "## Modern Context\n",
    "* Dennard scaling stopped 10 years ago, we cannot just increase frequency\n",
    "* Moore's Law is starting to end, we cannot just increase density\n",
    "\n",
    "[Mieszko's Research](http://mieszko.ece.ubc.ca/research)\n",
    "\n"
   ]
  }
 ],
 "metadata": {
  "kernelspec": {
   "display_name": "Python [Root]",
   "language": "python",
   "name": "Python [Root]"
  },
  "language_info": {
   "codemirror_mode": {
    "name": "ipython",
    "version": 3
   },
   "file_extension": ".py",
   "mimetype": "text/x-python",
   "name": "python",
   "nbconvert_exporter": "python",
   "pygments_lexer": "ipython3",
   "version": "3.5.2"
  }
 },
 "nbformat": 4,
 "nbformat_minor": 0
}
