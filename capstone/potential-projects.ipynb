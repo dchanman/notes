{
 "cells": [
  {
   "cell_type": "markdown",
   "metadata": {},
   "source": [
    "### 20. Network Platform for Smart Buildings\n",
    "* Automatic classification of every device connected to network\n",
    "* Blocking threatening devices\n"
   ]
  },
  {
   "cell_type": "markdown",
   "metadata": {},
   "source": [
    "### 14. Optical and Power Line Communication for Street Light Application\n",
    "* WLEDs used for audio signal transmission for ranges over 2m\n",
    "* WLED used for both communication and illumination\n",
    "* WLED = white-light-emitting-diodes"
   ]
  },
  {
   "cell_type": "markdown",
   "metadata": {},
   "source": [
    "### 86. Takhti EMR\n",
    "* Ugandan medical records\n",
    "* Frontend web-based application\n",
    "* Real-time updates and notification capabilities\n",
    "* Flexible backend\n",
    "* Processing power + memory efficient + cost effective solution"
   ]
  },
  {
   "cell_type": "markdown",
   "metadata": {},
   "source": [
    "### 7. Wireless wearable infant safety monitoring device\n",
    "* no-battery design\n",
    "* bluetooth with multiple sensors\n",
    "* simple GUI\n",
    "* hardware-software co-design"
   ]
  },
  {
   "cell_type": "markdown",
   "metadata": {},
   "source": [
    "### 26. Mug-Share Exchange Machine\n",
    "* Mug identification\n",
    "* Mug colelction\n",
    "* Reports"
   ]
  },
  {
   "cell_type": "markdown",
   "metadata": {},
   "source": [
    "### 47. Race Force Volunteer Database\n",
    "* Create database system for storing volunteer data\n",
    "* Create management GUI for volunteers"
   ]
  },
  {
   "cell_type": "markdown",
   "metadata": {},
   "source": [
    "### 79. LiFi Communication for Visitor Engagement\n",
    "* LiFi location services for wayfinding\n",
    "* Popular destination\n",
    "* Investigate LiFi based applications"
   ]
  },
  {
   "cell_type": "markdown",
   "metadata": {},
   "source": [
    "### 77. Plastic Identification\n",
    "* Current burn-and-sniff technique identifies different plastics\n",
    "* Investigate other techniques (eg. spectroscopy, fluorescence)"
   ]
  },
  {
   "cell_type": "markdown",
   "metadata": {},
   "source": [
    "### 39. Unix Audio Streaming Software\n",
    "* Software interface with amiplifier hardware\n",
    "* Android App"
   ]
  }
 ],
 "metadata": {
  "anaconda-cloud": {},
  "kernelspec": {
   "display_name": "Python [Root]",
   "language": "python",
   "name": "Python [Root]"
  },
  "language_info": {
   "codemirror_mode": {
    "name": "ipython",
    "version": 3
   },
   "file_extension": ".py",
   "mimetype": "text/x-python",
   "name": "python",
   "nbconvert_exporter": "python",
   "pygments_lexer": "ipython3",
   "version": "3.5.2"
  }
 },
 "nbformat": 4,
 "nbformat_minor": 0
}
