{
 "cells": [
  {
   "cell_type": "markdown",
   "metadata": {},
   "source": [
    "# Capstone Project\n",
    "* Be a slave to a real industry client\n",
    "\n",
    "## Evaluation\n",
    "* Technical dossier\n",
    "* Prototype\n",
    "* Video\n",
    "* Presentations\n",
    "* 4 milestones\n",
    "\n",
    "## Schedule\n",
    "* Wednesday lecture. Friday lecture optional\n",
    "* Labs are for weekly meetings"
   ]
  }
 ],
 "metadata": {
  "kernelspec": {
   "display_name": "Python [Root]",
   "language": "python",
   "name": "Python [Root]"
  },
  "language_info": {
   "codemirror_mode": {
    "name": "ipython",
    "version": 3
   },
   "file_extension": ".py",
   "mimetype": "text/x-python",
   "name": "python",
   "nbconvert_exporter": "python",
   "pygments_lexer": "ipython3",
   "version": "3.5.2"
  }
 },
 "nbformat": 4,
 "nbformat_minor": 0
}
