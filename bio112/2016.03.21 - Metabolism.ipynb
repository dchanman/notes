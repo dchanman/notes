{
 "cells": [
  {
   "cell_type": "markdown",
   "metadata": {},
   "source": [
    "### Clicker\n",
    "> Carbon atoms in a carbohydrate are more reduced than the carbon atom in $C)_2$ because\n",
    "\n",
    "* they have C-H bonds in addition to C-O bonds\n",
    "* electrons in C-H bonds are closer to the C nucleus than electrons in C-O bonds\n",
    "\n",
    "Recall electronegativity scale: O is more electronegative than C.\n",
    "\n",
    "# Potential energy in chemical bonds\n",
    "When electrons are far from both nuclei, there is a large amount of potential energy.  \n",
    "When they are close to a nucleus, there is lower potential energy.\n",
    "\n",
    "```\n",
    "C   :   H (high potential energy)\n",
    "C     : O (low potential energy)\n",
    "```\n",
    "**Nonpolar covalent bonds carry potential energy**. This is usually **C-H** in organic molecules.\n",
    "\n",
    "# RedOx\n",
    "> LEO the lion goes GER\n",
    "\n",
    "**L**oss of **E**lectrons is **O**xidation  \n",
    "**G**ain of **E**lectrons is **R**eduction\n",
    "\n",
    "### Clicker\n",
    "> What kind of food has the most reduced carbons? Oranges, Toast, Eggs, Ketchup, Avocados\n",
    "\n",
    "* Toast - these contains more complex carbs. This would have to be broken down into glucose\n",
    "* Bacon - saturated fats with long C-H tails. There are more C-H bonds than in carbs\n",
    "* Avocados - same thing\n",
    "\n",
    "The more **reduced** an organic molecule is, the more potential energy it has.  \n",
    "*Nonpolar covalent single bonds are higher energy and less stable than polar covalent single bonds*.\n",
    "\n",
    "## Catabolism example: Breakdown of glucose\n",
    "\n",
    "$$(CH_2O)_4H + O_2 \\rightarrow CO_2 + H_2O + ATP$$\n",
    "\n",
    "**Catabolic** reactions are **spontaneous** ($-\\Delta G$)\n",
    "\n",
    "### Clicker\n",
    "> How come a bowl of sugar doesn't just explode into $CO_2$ and water if given enough time?\n",
    "\n",
    "* Series of reactions that convert sugar require an input of energy (activation energy)\n",
    "* Series of reactions that convert sugar inside a cell are enzyme catalyzed\n",
    "\n",
    "Gradual transformation allows the energy stored in glucose to be harnessed in the chemical bonds of:\n",
    "* high energy intermediates\n",
    "* ATP\n",
    "\n",
    "The cell can use ATP to do work."
   ]
  }
 ],
 "metadata": {
  "kernelspec": {
   "display_name": "Python 3",
   "language": "python",
   "name": "python3"
  },
  "language_info": {
   "codemirror_mode": {
    "name": "ipython",
    "version": 3
   },
   "file_extension": ".py",
   "mimetype": "text/x-python",
   "name": "python",
   "nbconvert_exporter": "python",
   "pygments_lexer": "ipython3",
   "version": "3.5.1"
  }
 },
 "nbformat": 4,
 "nbformat_minor": 0
}
