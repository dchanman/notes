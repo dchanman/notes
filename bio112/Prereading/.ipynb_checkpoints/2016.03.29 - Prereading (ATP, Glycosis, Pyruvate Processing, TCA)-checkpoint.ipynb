{
 "cells": [
  {
   "cell_type": "markdown",
   "metadata": {},
   "source": [
    "# 7.2 Glycosis: The Splitting of Sugar\n",
    "\n",
    "Literally means splitting sugar. A 6-carbon sugar (glucose) is divided to yield 3 carbon molecules.\n",
    "\n",
    "The process is anerobic because no oxygen is consumed.\n",
    "\n",
    "## Glycolysis is the partial breakdown of glucose\n",
    "1. Add 2 phosphate groups to make fructose 1,6-biphosphate (endergonic)\n",
    "2. Cleavage phase, split the fructose\n",
    "3. Final stages, create ATP and pyruvate\n",
    "\n",
    "$$\n",
    "Glucose + 2 NAD^+ + 2 ADP + 2 P_i \\rightarrow\n",
    "2 pyruvate + 2 ATP + 2 NADH + 2H^+ + H_2O\n",
    "$$\n",
    "\n",
    "2 ATP is created substrate level phosphorylation. \n",
    "2 NADH = 5 ATP from oxidative phosphorylation\n",
    "\n",
    "NADH is an electron carrier"
   ]
  },
  {
   "cell_type": "markdown",
   "metadata": {},
   "source": [
    "# 7.3 Acetyl-CoA Synthesis\n",
    "\n",
    "Glycolysis doesn't make much ATP. Pyruvate still contains a lot of energy. Break down pyruvate in oxygen first to acetyl-CoA and then citric acid cycle. \n",
    "\n",
    "This is the first step inside mitochondria.\n",
    "\n",
    "## The oxidation of pyruvate connects glycolysis to the citric acid cycle\n",
    "\n",
    "1. Pyrivate is oxidized, part of it splits off and becomes carbon dioxide. $CO_2$ is the most oxidized form of carbon. Electrons are donated to $NAD^+$ to reduce to $NADH$.\n",
    "2. Remaining $CH_3OC -$ still has a lot of energy. Transferred to coenzyme A (CoA) for next reactions\n",
    "\n",
    "Results:\n",
    "* 1 molecule acetyl-CoA\n",
    "* 1 molecule of $CO_2$\n",
    "* 1 molecule of NADH\n",
    "\n",
    "Recall that 2 pyrivates are created from glycosis (1 glucose molecule), so we have to double the products\n",
    "\n",
    "<img src=\"http://www.macmillanhighered.com/BrainHoney/Resource/6716/assets/pdx_files/digfir/morris1e/hlw_ebook/asset/c07_fig06.jpg\"\n",
    "width=300>"
   ]
  },
  {
   "cell_type": "markdown",
   "metadata": {},
   "source": [
    "# The Citric Acid Cycle\n",
    "\n",
    "AKA Krebs cycle, or tricarboxylic cycle (TCA).\n",
    "\n",
    "Chemical energy of acetyl-CoA is transferred to ATP.\n",
    "\n",
    "## The citric acid cycle produces ATP and electron carriers\n",
    "\n",
    "Called a cycle because the starting molecule, **oxaloacetate**, reacts with acetyl-CoA to make citrate. The last reaction in the cycle regenerates this molecule.\n",
    "\n",
    "This cycle completely oxidizes acetyl group of acetyl-CoA. Carbon dioxide is produced.\n",
    "\n",
    "Again, $NAD^+$ is reduced to NADH.  \n",
    "Additionally, $FADH_2$ is produced.  \n",
    "These electron carriers donate electrons in the next stage\n",
    "\n",
    "Reaction 5: substrate-level phosphorylation creating GTP.  \n",
    "GTP can pass a phosphate to ADP to make ATP. This is the only substrate-level phosphorylation in the cycle\n",
    "\n",
    "Overall: 2 molecules of acetyl-CoA\n",
    "* 2 molecules of ATP\n",
    "* 6 molecules NADH\n",
    "* 2 molecules $FADH_2$\n",
    "\n",
    "<img src=\"http://www.macmillanhighered.com/BrainHoney/Resource/6716/assets/pdx_files/digfir/morris1e/hlw_ebook/asset/c07_fig07.jpg\"\n",
    "width=300>"
   ]
  }
 ],
 "metadata": {
  "kernelspec": {
   "display_name": "Python 3",
   "language": "python",
   "name": "python3"
  },
  "language_info": {
   "codemirror_mode": {
    "name": "ipython",
    "version": 3
   },
   "file_extension": ".py",
   "mimetype": "text/x-python",
   "name": "python",
   "nbconvert_exporter": "python",
   "pygments_lexer": "ipython3",
   "version": "3.5.1"
  }
 },
 "nbformat": 4,
 "nbformat_minor": 0
}
