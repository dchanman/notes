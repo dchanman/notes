{
 "cells": [
  {
   "cell_type": "markdown",
   "metadata": {},
   "source": [
    "# Glycolysis Continued\n",
    "\n",
    "### What is substrate-level phosphorylation?\n",
    "* ADP becomes ATP when a $PO_3$ group is donated\n",
    "* Enzyme catalyzes transfer of phosphate from a phosphorylated molecule to ADP\n",
    "* Coupled reaction! "
   ]
  },
  {
   "cell_type": "markdown",
   "metadata": {},
   "source": [
    "# Pyruvate Processing\n",
    "\n",
    "What is the fate of pyruvate?\n",
    "* Only **eukaryotes** need to transport pyruvate into the mitochondrial matrix\n",
    "* Only organisms that utilize $O_2$ as a terminal electron accepter convert pyruvate to acetyl CoA\n",
    "    * eg. anaerobic cellular respiration ($NO_3$, $SO_4$ for bacteria and archaea)\n",
    "    * eg. fermentation - no terminal electron acceptor, becomes lactic acid or ethanol\n",
    "    \n",
    "The **TEA** (terminal electron acceptor) determines the fate of pyruvate.\n",
    "\n",
    "```\n",
    "               ____________\n",
    " Pyruvate     |            |          Acetyl-CoA\n",
    "    ========> | Pyruvate   | ========>\n",
    "              | Processing |          CO2 (byproduct)\n",
    "              |            | ========>            \n",
    "              |            |\n",
    "  NAD +       |            |          NADH\n",
    "    --------> |            | -------->\n",
    "              |            |              \n",
    "              |____________|\n",
    "              \n",
    "```\n",
    "Pyruvate has 3 carbons.\n",
    "* $CO_2$ is one fully oxidized carbon from Pyruvate.\n",
    "* Acetyl-CoA has 2 carbons"
   ]
  },
  {
   "cell_type": "markdown",
   "metadata": {},
   "source": [
    "# TCA Cycle (Kreb's, Citric Acid)\n",
    "\n",
    "> What is the central purpose of the TCA cycle?\n",
    "\n",
    "* To extract the remaining energy from carbon atoms to produce high energy intermediates\n",
    "\n",
    "```\n",
    "               ____________\n",
    " Acetyl-CoA   |            |          NADH\n",
    "    ========> | TCA Cycle  | ========>\n",
    "              |            |          FADH2\n",
    "              |            | ========>\n",
    "              |            |          CO2\n",
    "              |            | ========>       \n",
    "              |            |\n",
    "  ADP         |            |          ATP\n",
    "    --------> |            | -------->\n",
    "              |            |              \n",
    "              |____________|\n",
    "```"
   ]
  },
  {
   "cell_type": "markdown",
   "metadata": {},
   "source": [
    "# Summary\n",
    "\n",
    "* Glycolysis\n",
    "    * 2 NADH, 2 ATP\n",
    "* Pyruvate Processing\n",
    "    * 2 NADH\n",
    "* Citric Acid Cycle\n",
    "    * 6NADH, 2FADH2, 4CO2, 2ATP"
   ]
  }
 ],
 "metadata": {
  "kernelspec": {
   "display_name": "Python 3",
   "language": "python",
   "name": "python3"
  },
  "language_info": {
   "codemirror_mode": {
    "name": "ipython",
    "version": 3
   },
   "file_extension": ".py",
   "mimetype": "text/x-python",
   "name": "python",
   "nbconvert_exporter": "python",
   "pygments_lexer": "ipython3",
   "version": "3.5.1"
  }
 },
 "nbformat": 4,
 "nbformat_minor": 0
}
