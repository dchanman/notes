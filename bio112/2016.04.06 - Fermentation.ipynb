{
 "cells": [
  {
   "cell_type": "markdown",
   "metadata": {},
   "source": [
    "# DNP Revisited (Still aerobic)\n",
    "\n",
    "Recall that DNP makes the inner membrane of the mitochondria leaky to $H^+$ ions. What happens?\n",
    "* ETC (electron transport chain) goes on overdrive, it tries to continually pump hydrogen ions out but to no avail\n",
    "* This burns more glucose in order to continually try to burn glucose\n",
    "* This also increases oxygen consumption since oxygen is the final acceptor in the ETC\n",
    "* Very little ATP will still get produced (substrate-level phosphorylation/glycoysis), but the majority of ATP production ceases (from oxydative-level phosphorylation)\n",
    "\n",
    "## Symptoms of DNP Treatment\n",
    "All of the lost energy goes into heat\n",
    "\n",
    "* Cataracts: denatured proteins in eye\n",
    "    * caused by increased heat, damaging protein structure"
   ]
  },
  {
   "cell_type": "markdown",
   "metadata": {},
   "source": [
    "# Fermentation and Anerobic Respiration\n",
    "\n",
    "What is the difference between fermentation and anerobic respiration?\n",
    "* Anaerobic uses inorganic molecules in terminal electron acceptor (TEA), fermentation uses organic\n",
    "* Anerobic respiration involves electron transport chain (ETC), fermentation does not\n",
    "* Anaerobic results in large energy production, fermentation results in little\n",
    "* Anaerobic involves membrane bound proteins, fermentation in all parts of cytoplasm\n",
    "\n",
    "Recall **aerobic** uses oxygen as the TEA. \n",
    "\n",
    "### Clicker\n",
    "\n",
    "> In the absence of respiration (no ETC function), a cell...\n",
    "\n",
    "*can still make enough ATP for survival by substrate-level phosphorylation in glycolysis if pyruvate is converted to lactate or ethanol*\n",
    "\n",
    "> In the absence of respiration (no ETC function), a cell can still make ATP by SLP if it...\n",
    "\n",
    "*Oxidizes NADH to NAD+*\n",
    "\n",
    "This is the whole point. We need to have NAD+ again to feed back into glycolysis. Fermentation pathways try to keep the glycolysis path churning. Lactate is the carbon byproduct of the whole operation.\n",
    "\n",
    "## Examples of fermentation pathways\n",
    "\n",
    "* Wine is a bunch of squished grapes with a tiny bit of yeast. This is ethanol fermentation, for plants.\n",
    "\n",
    "* Animals and bacteria experience lactic acid fermentation. **Pyruvate** is the electron acceptor in this case. It receives electrons and becomes reduced to form lactic acid.\n",
    "\n",
    "Our byproducts ethanol and lactic acid still have a lot of potential energy. We waste this!"
   ]
  }
 ],
 "metadata": {
  "kernelspec": {
   "display_name": "Python 3",
   "language": "python",
   "name": "python3"
  },
  "language_info": {
   "codemirror_mode": {
    "name": "ipython",
    "version": 3
   },
   "file_extension": ".py",
   "mimetype": "text/x-python",
   "name": "python",
   "nbconvert_exporter": "python",
   "pygments_lexer": "ipython3",
   "version": "3.5.1"
  }
 },
 "nbformat": 4,
 "nbformat_minor": 0
}
