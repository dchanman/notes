{
 "cells": [
  {
   "cell_type": "markdown",
   "metadata": {},
   "source": [
    "# Photosynthesis\n",
    "\n",
    "> What is the overall purpose of photosynthesis?\n",
    "\n",
    "The purpose is to store energy in **carbohydrates**.\n",
    "\n",
    "NOT:\n",
    "* produce ATP for cell to use\n",
    "* convert energy of light into energy stored in reduced cofactors (this is the first half only)\n",
    "\n",
    "> Light-dependent reactions are oxidizing:\n",
    "\n",
    "**H2O to O2 and electrons given to PSII (photosystem II)**\n",
    "\n",
    "> Light-independent reactions are used to reduce:\n",
    "\n",
    "**CO2 to carbohydrates**\n",
    "\n",
    "> Overall, the photosynthesis reaction is:\n",
    "$$ CO_2 + H_2O \\rightarrow C_6H_{12}O_6 + O_2 $$\n",
    "\n",
    "This is **endergonic**. We are creating a more stable molecule (sugar)\n",
    "\n",
    "## Electron Transport Chain\n",
    "\n",
    "In plants, the hydrogen ions get pumped from the **stroma** into the **lumen**\n",
    "\n",
    "${NADP}^+$ get reduced into $NADPH$"
   ]
  },
  {
   "cell_type": "markdown",
   "metadata": {},
   "source": [
    "# Calvin Cycle\n",
    "\n",
    "Three phases:\n",
    "* fixation/carboxylation\n",
    "* rduction\n",
    "* regeneration"
   ]
  }
 ],
 "metadata": {
  "kernelspec": {
   "display_name": "Python 3",
   "language": "python",
   "name": "python3"
  },
  "language_info": {
   "codemirror_mode": {
    "name": "ipython",
    "version": 3
   },
   "file_extension": ".py",
   "mimetype": "text/x-python",
   "name": "python",
   "nbconvert_exporter": "python",
   "pygments_lexer": "ipython3",
   "version": "3.5.1"
  }
 },
 "nbformat": 4,
 "nbformat_minor": 0
}
