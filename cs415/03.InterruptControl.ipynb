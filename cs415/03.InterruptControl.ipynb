{
 "cells": [
  {
   "cell_type": "markdown",
   "metadata": {},
   "source": [
    "# Interrupt Control\n",
    "* Provides support for syscalls (trap), device event handling (int)\n",
    "    * Fault handling\n",
    "* **register** points to a table in memory\n",
    "* An **IDT** (interrupt descriptor table) entry consists of\n",
    "    * handler - pointer addr to a piece of code that gets executed\n",
    "    * access permissions\n",
    "        * eg. iret instruction\n",
    "        * depending on which interrupt entry you hit determines which level of privilege you gain\n",
    "        * only care about supervisor+user modes\n",
    "    * event type - eg. interrupt (dev), trap (proc), fault (proc)\n",
    "* Every interrupt has a number associated to it (0-255)\n",
    "    * internal interrupts - eg. trap\n",
    "    * external interrupts - eg. from devices\n",
    "\n",
    "## Expanded view on Instruction Execution\n",
    "1. Fetch\n",
    "2. EIP is incremented to addr's next instruction\n",
    "3. Execute instruction, result is reflected in flags, local, and maybe EIP\n",
    "4. Read/Write memory\n",
    "5. Check for interrupt (save and change PC + memory descriptors on interrupt)\n",
    "    * PC at this moment is pointing to the next instruction\n",
    "    * PC gets pushed onto the stack\n",
    "    * When we enter the interrupt, the previous PC is the top item on the stack"
   ]
  },
  {
   "cell_type": "markdown",
   "metadata": {},
   "source": [
    "# Memory Management (MMU)\n",
    "* Supported through GDT register\n",
    "* Assists paging, memory protections, caching\n",
    "* Register pointing to a table in memory\n",
    "* Table comprises entries that directly/indirectly contain\n",
    "    * page tables\n",
    "    * permissions\n",
    "    * valid ranges\n",
    "    * memory access info\n",
    "\n",
    "## What happens on a memory reference?\n",
    "* selector (current value in GDT register) to index the MMU (GDT) table\n",
    "* Processor checks that the access if valid, which means\n",
    "    * the addr is valid\n",
    "    * the processor has sufficient privilege to access the addr\n",
    "    * page is in memory\n",
    "    * if anything fails, fault (trap/exception) is generated\n",
    "  "
   ]
  },
  {
   "cell_type": "markdown",
   "metadata": {},
   "source": [
    "# Interrupts\n",
    "\n",
    "1. **HW:** CPU is notified that an interrupt $I$ occuured\n",
    "    * save some state\n",
    "        * eg. previous CPU permission, PC\n",
    "        * we want this to be the minimal amount of state to be saved because this is atomic\n",
    "    * CPU switch to supervisor mode\n",
    "    * CPU indexes the IDT to find the interrupt hander\n",
    "    * Jump to handler code\n",
    "2. **SW:** Handler services the interrupt\n",
    "    * Save some more CPU state\n",
    "    * Load \"old\" kernel state, enter kernel\n",
    "    * Perform service/function\n",
    "    * Save current kernel state\n",
    "    * Restore CPU state (in handler scope)\n",
    "        * We could put new values into registers as well here (as our response)\n",
    "        * We could switch to a different process state (this would allow us to \"swap\" processes)\n",
    "3. **HW:** Perform $iret$\n",
    "    * Switch to user mode\n",
    "    * Restores state from first step (cpu scope)"
   ]
  },
  {
   "cell_type": "markdown",
   "metadata": {},
   "source": [
    "# What can we do with this stuff?\n",
    "* Guarantee integrity between processes (memory protection)\n",
    "* Allocate CPU fairly through preemption (timer interrupt)\n",
    "* Provide a uniform abstraction of devices to all processes (all devices accessed via syscalls)\n"
   ]
  }
 ],
 "metadata": {
  "kernelspec": {
   "display_name": "Python [Root]",
   "language": "python",
   "name": "Python [Root]"
  },
  "language_info": {
   "codemirror_mode": {
    "name": "ipython",
    "version": 3
   },
   "file_extension": ".py",
   "mimetype": "text/x-python",
   "name": "python",
   "nbconvert_exporter": "python",
   "pygments_lexer": "ipython3",
   "version": "3.5.2"
  }
 },
 "nbformat": 4,
 "nbformat_minor": 0
}
