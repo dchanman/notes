{
 "cells": [
  {
   "cell_type": "markdown",
   "metadata": {},
   "source": [
    "# Recall (Last Class)\n",
    "* OS Components\n",
    "* Role of OS\n",
    "\n",
    "## What happens when CPU is turned on/reset\n",
    "* Starts an execution cycle, fetches an instruction\n",
    "* For x86, PC/EIP is set to `0xFFFFFFF0` for the first instruction\n",
    "    * This is 16 bytes from the end of the valid memory region\n",
    "    * Note that you usually won't even have this much memory\n",
    "    * This is a small chunk of code, so this is usually just a `JMP` instruction\n",
    "\n",
    "The standard is to jump to BIOS at `0xF000`\n",
    "* BIOS usually appeared in ROM addressed right after the last RAM address\n",
    "* We now have so much RAM that we go over where the BIOS is\n",
    "* For legacy compatibility, we leave the BIOS there\n",
    "\n",
    "## Basic computer model\n",
    "1. Fetch instruction\n",
    "2. Parse instruction\n",
    "3. Execute\n",
    "4. Store result\n",
    "\n",
    "## BIOS\n",
    "* All that the BIOS needs to do is read sector 0 from a device (eg. disk, flash, floppy, etc)\n",
    "* The first block is copied into RAM and then the program counter jumps into it\n",
    "    * This block is typically a bootloader, loads something bigger\n",
    "    * This bigger code typically knows how to handle different disk formats (eg. NTFS, ext4, HFS+) and starts loading the kernel\n",
    "* This bootstrapping process is to allow the startup for a processor to be generic"
   ]
  },
  {
   "cell_type": "markdown",
   "metadata": {},
   "source": [
    "# Post-Boot\n",
    "\n",
    "The memory layout for a simple system after bootloader transfer control to kernel:\n",
    "\n",
    "```\n",
    "0x0\n",
    "----------------------------------\n",
    "| OS | User Program resides here |\n",
    "----------------------------------\n",
    "```\n",
    "Since we want to run more than one process at a time, we want to be able to multiplex main memory\n",
    "\n",
    "### Multi-Process Model\n",
    "* Share main memory across multiple processes\n",
    "* Allow execution of other processes while a process is waiting for some signal\n",
    "\n",
    "## Step 1: Basic Memory Management\n",
    "* Write `kmalloc` and `kfree` to allow the system to grab memory areas\n",
    "\n",
    "```\n",
    "State of memory:\n",
    "---------------------------------------\n",
    "| Kernel |   free   | HOLE |   free   |\n",
    "---------------------------------------\n",
    "```\n",
    "\n",
    "The hole is problematic.\n",
    "\n",
    "### Incremental Design at a Memory Manager\n",
    "1. Alpha\n",
    "    * Ignore the hole for now\n",
    "    * Ignore free\n",
    "    * Keep a pointer to the spot where free memory starts. On kmalloc, increment pointer and return the address\n",
    "    * You'll run out of memory eventually, but at least your processes can have memory!\n",
    "2. Adding Free\n",
    "    * Ideas: Use a linked list for allocated and freed spaces\n",
    "    * This fragmentates our memory\n",
    "    * We also need memory to store the list. We can't call kmalloc to create memory for the list\n",
    "    * So, instead of using a dynamic linked list, maybe we should use an array\n",
    "    * However, arrays may not be optimal for dynamic allocation. Small allocations will deplete your table. Large allocations will keep your table sparse."
   ]
  }
 ],
 "metadata": {
  "anaconda-cloud": {},
  "kernelspec": {
   "display_name": "Python [Root]",
   "language": "python",
   "name": "Python [Root]"
  },
  "language_info": {
   "codemirror_mode": {
    "name": "ipython",
    "version": 3
   },
   "file_extension": ".py",
   "mimetype": "text/x-python",
   "name": "python",
   "nbconvert_exporter": "python",
   "pygments_lexer": "ipython3",
   "version": "3.5.2"
  }
 },
 "nbformat": 4,
 "nbformat_minor": 0
}
