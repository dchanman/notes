{
 "cells": [
  {
   "cell_type": "markdown",
   "metadata": {},
   "source": [
    "# Introduction\n",
    "\n",
    "## Project Overview\n",
    "* Interrupts, process switching\n",
    "* Interrupts, IPC, clock\n",
    "* Interrupts, interfacing with input (eg. keyboard)\n",
    "\n",
    "## Contact\n",
    "**Acton**: cs415@ugrad.cs.ubc.ca\n",
    "\n",
    "## Schedule\n",
    "Quizzes:\n",
    "* Fri Sept 30\n",
    "* Fri Oct 21\n",
    "* Mon Nov 14"
   ]
  }
 ],
 "metadata": {
  "anaconda-cloud": {},
  "kernelspec": {
   "display_name": "Python [Root]",
   "language": "python",
   "name": "Python [Root]"
  },
  "language_info": {
   "codemirror_mode": {
    "name": "ipython",
    "version": 3
   },
   "file_extension": ".py",
   "mimetype": "text/x-python",
   "name": "python",
   "nbconvert_exporter": "python",
   "pygments_lexer": "ipython3",
   "version": "3.5.2"
  }
 },
 "nbformat": 4,
 "nbformat_minor": 0
}
