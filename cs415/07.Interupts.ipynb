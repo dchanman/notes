{
 "cells": [
  {
   "cell_type": "markdown",
   "metadata": {},
   "source": [
    "# Interrupts\n",
    "\n",
    "Two categories\n",
    "* **Interrupts**: async, external to processor\n",
    "* **Exceptions**: SW result, catergoized how exception is reported, whether exception can be restarted\n",
    "    * **Fault**: correctable and restartable\n",
    "    * **Trap**: result of executing a trapping instruction, eg `int`\n",
    "    * **Abort**: Precise location of problem unknown. Typically caused by inconsistent or illegal values in system tables\n",
    "    \n",
    "## Interrupt number\n",
    "* CPU generated interrupt have implicit interrupt bumber\n",
    "    * `int`, arg is the number\n",
    "    * General protection fault: 13\n",
    "    * Page fault: 14\n",
    "\n",
    "## Interrupt Delivery\n",
    "* hardware signals APIC (*advanced programmable interrupt controller*)\n",
    "* APIC signals CPU\n",
    "* CPU receives signal\n",
    "* CPU communicates to the hardware over the IO bridge to resolve interrupt\n",
    "* CPU signals completion to APIC\n",
    "* APIC clears the signal, continues checking for more interrupts\n",
    "\n",
    "## Recall Transfer of Control\n",
    "* CPU looksup in IDT\n",
    "* CPU fetches the instruction in the IDT for the corresponding interrupt\n",
    "\n",
    "## x86 IDT Entry Format\n",
    "* 8 byte entry\n",
    "* bits 0-15 of first 5 bytes define type + priority level\n",
    "    * task gate (don't worry)\n",
    "    * interrupt gate\n",
    "    * trap gate\n",
    "* Interrupt and Trap gate are almost identical (interrupts disable interrupts, traps don't)\n",
    "* Remainder of entry:\n",
    "    * 16 bits segment selector\n",
    "    * 32 bit address of where to transfer control (handler)\n",
    "\n",
    "Interrupt vectoring:\n",
    "* each interrupt number goes to some handler\n",
    "* many-to-many relationship\n",
    "\n",
    "## New Problem: Simultaneous exceptions and interrupts\n",
    "* Events are prioritized - highest class services first\n",
    "* Lower priority exceptions (not interrupts) are discarded\n",
    "\n",
    "1. HW reset and machine checks (aborts)\n",
    "2. Trap on task switch\n",
    "3. External hardware interventions (STOPCLK, FLUSH, INIT)\n",
    "4. Traps on previous instruction (breakpoints, debug traps)\n",
    "5. External interrupt (maskable interrupts)\n",
    "6. Faults from fetching next instruction (segment limit, page fault)\n",
    "7. Faults from decoding next instruction (invalid opcode, no coprocessor)\n",
    "8. Faults from the instruction (segfault, pagefault, alignment)"
   ]
  }
 ],
 "metadata": {
  "anaconda-cloud": {},
  "kernelspec": {
   "display_name": "Python [Root]",
   "language": "python",
   "name": "Python [Root]"
  },
  "language_info": {
   "codemirror_mode": {
    "name": "ipython",
    "version": 3
   },
   "file_extension": ".py",
   "mimetype": "text/x-python",
   "name": "python",
   "nbconvert_exporter": "python",
   "pygments_lexer": "ipython3",
   "version": "3.5.2"
  }
 },
 "nbformat": 4,
 "nbformat_minor": 0
}
