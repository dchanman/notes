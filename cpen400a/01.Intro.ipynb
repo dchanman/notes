{
 "cells": [
  {
   "cell_type": "markdown",
   "metadata": {},
   "source": [
    "# Labs\n",
    "First lab is mandatory. Subsequent labs are only mandatory on week of assignment submission.\n",
    "\n",
    "Assignment submission takes place through GitHub."
   ]
  },
  {
   "cell_type": "markdown",
   "metadata": {},
   "source": [
    "# Modern Web App Architecture\n",
    "\n",
    "Components:\n",
    "* HTML\n",
    "* CSS\n",
    "* CLientside JS\n",
    "* Serverside script\n",
    "* Database"
   ]
  }
 ],
 "metadata": {
  "anaconda-cloud": {},
  "kernelspec": {
   "display_name": "Python [Root]",
   "language": "python",
   "name": "Python [Root]"
  },
  "language_info": {
   "codemirror_mode": {
    "name": "ipython",
    "version": 3
   },
   "file_extension": ".py",
   "mimetype": "text/x-python",
   "name": "python",
   "nbconvert_exporter": "python",
   "pygments_lexer": "ipython3",
   "version": "3.5.2"
  }
 },
 "nbformat": 4,
 "nbformat_minor": 0
}
