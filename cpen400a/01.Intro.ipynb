{
 "cells": [
  {
   "cell_type": "markdown",
   "metadata": {},
   "source": [
    "# Labs\n",
    "First lab is mandatory. Subsequent labs are only mandatory on week of assignment submission.\n",
    "\n",
    "Assignment submission takes place through GitHub."
   ]
  },
  {
   "cell_type": "markdown",
   "metadata": {},
   "source": [
    "# Modern Web App Architecture\n",
    "\n",
    "Components:\n",
    "* HTML\n",
    "* CSS\n",
    "* CLientside JS\n",
    "* Serverside script\n",
    "* Database"
   ]
  },
  {
   "cell_type": "markdown",
   "metadata": {},
   "source": [
    "---\n",
    "\n",
    "*Tuesday September 13*\n",
    "\n",
    "---"
   ]
  },
  {
   "cell_type": "markdown",
   "metadata": {},
   "source": [
    "# JavaScript Proficiency Quiz\n",
    "* Basic knowledge of JS\n",
    "    * Loops, function calls, etc. Not closures\n",
    "    * 5% overall"
   ]
  },
  {
   "cell_type": "markdown",
   "metadata": {},
   "source": [
    "# Intro: Web, HTML, CSS\n",
    "\n",
    "> What is a web application?\n",
    "> * Client-Server application where the client runs inside a web browser\n",
    "\n",
    "Why webapps?\n",
    "* Easy to install/use\n",
    "* Standard interface across platforms\n",
    "* Service provider controls code\n",
    "* Storage-intensive (actually most heavy-lifting) functionality on server\n",
    "\n",
    "## 1960s - 1980s: Early days\n",
    "* 1960: Rise of ARPAnet and packet switched networks (UCLA, DARPA)\n",
    "* 1970: Development of TCP/IP (Stanford, Univ. College London, BBN Tech)\n",
    "* 1980s: TCP/IP became standard at ARPANET, Tim Berners Lee invents HTML\n",
    "\n",
    "## 1985 - 1990: HTML and Web Browsers\n",
    "* HTML allowed hyperlinks within documents to navigate to other documents\n",
    "* Extended SGML (Standard Generalized Markup Language) from mid 1980s\n",
    "\n",
    "## 1990 - 1995: Web Browsers\n",
    "* Mosaic: first graphical browser led by Marc Anderson + Eric Bina in 1993\n",
    "* Marc + Eric went on to start Netscape\n",
    "* UIUC licenses Mosaic code to create SpyGlass Inc\n",
    "* Microsoft buys SpyGlass and it becomes IE 1.0\n",
    "\n",
    "## 1995 - 2000: Browser Wars\n",
    "* Netscape Navigator vs Internet Explorer\n",
    "* JavaScript 1.0 was integrated into Netscape\n",
    "\n",
    "## 2000 - 2005: Browser Wars P2\n",
    "* Netscape released their code to Mozilla\n",
    "* Firefox was the first browser that was standards compatible\n",
    "* Microsoft removed most staff from IE team and stopped development\n",
    "* By 2006, Mozilla was back in the game\n",
    "\n",
    "## 2006 - 2009: Rise of AJAX (Async. JS and XML)\n",
    "* Originally developed by Microsoft IE for Outlook Web Access client (so you didn't have to refresh your browser). Nobody cared.\n",
    "* Google used it for Google Maps and Gmail and suddenly everyone cared\n",
    "* JS became super popular, important since Mozilla was holding the lead\n",
    "* Chrome came in 2008 primarily about fast JS execution/support and based on Webkit\n",
    "\n",
    "## 2010 - 2015: JS Everywhere\n",
    "* Typically 1000s of lines of minified code\n",
    "    * kind of ironic since JS was meant to be open source\n",
    "    * however some companies view their JS as intellectual property\n",
    "* New apps and frameworks (eg. google docs, office live, Jquery)\n",
    "* Academia started to research JS in terms of performance, reliability, security\n",
    "* Most popular language on GitHub and StackOverflow"
   ]
  },
  {
   "cell_type": "markdown",
   "metadata": {},
   "source": [
    "# Anatomy of a Web Application\n"
   ]
  }
 ],
 "metadata": {
  "anaconda-cloud": {},
  "kernelspec": {
   "display_name": "Python [Root]",
   "language": "python",
   "name": "Python [Root]"
  },
  "language_info": {
   "codemirror_mode": {
    "name": "ipython",
    "version": 3
   },
   "file_extension": ".py",
   "mimetype": "text/x-python",
   "name": "python",
   "nbconvert_exporter": "python",
   "pygments_lexer": "ipython3",
   "version": "3.5.2"
  }
 },
 "nbformat": 4,
 "nbformat_minor": 0
}
