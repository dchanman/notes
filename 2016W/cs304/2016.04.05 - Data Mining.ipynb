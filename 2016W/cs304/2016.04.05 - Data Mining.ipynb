{
 "cells": [
  {
   "cell_type": "markdown",
   "metadata": {},
   "source": [
    "# Data Mining\n",
    "\n",
    "## OLTP vs OLAP\n",
    "Recall their differences:\n",
    "* OLTP is many transaction, most up-to-date information\n",
    "* OLAP is about data mining, looking for patterns. Consolidates many OLTP databases\n",
    "\n",
    "### OLAP\n",
    "* Run various analytics queries and exploire results to try and find patterns\n",
    "* Mining algorithmically extracts patterns, builds models, makes predictions, cluster similar things together, detect outliers, etc.\n",
    "* **Association rules** are an important type of patterns\n",
    "\n",
    "## Usage Example: Supermarket\n",
    "\n",
    "> Three customers purchase different items from a supermarket\n",
    "\n",
    "* Consider baskets as sets\n",
    "* Consider items that are frequently purchased as **interesting**\n",
    "* Consider **sets of items** frequently purchsed together as **even more interesting**\n",
    "    * eg. {milk, bread} are copurchased in 20% of baskets. 60% of these also contain cheese.\n",
    "        * (assiciation rule): `{milk, bread} -> {cheese}`\n",
    "\n",
    "**Confidence** is the conditional probability of event B occurring when A occurs.\n",
    "\n",
    "## Usage Example: Word Processing\n",
    "\n",
    "Consider the following:\n",
    "* `{wikileaks} -> {snowden}` 10%, 50%\n",
    "* `{ukraine, mh17} -> {putin}` 5%, 70%\n",
    "* `{bush} -> {war}`: 1000, 0.6\n",
    "* `{trump} -> {immigration}`: 2000, 0.4\n",
    "\n",
    "The first number is the occurence of the first tuple (statistical significance in our sample). The second number is the support/confidence/conditional probability.\n",
    "\n",
    "## Data Mining Problem\n",
    "\n",
    "> * How to mine co-occurences of words from a huge body of a million documents, each with 1000s of words?\n",
    "* How to make a recommender system? People who liked movies M1, M2 might also like M3, we should recommend\n",
    "\n",
    "## Association Rules: Basic Notions\n",
    "\n",
    "* **D** is the transaction database, **considered to be a set in this course**\n",
    "* **Support** is the absolute number of subsets in **D** that contain **S**\n",
    "* **Confidence** is $\\text{conf}(X \\rightarrow Y) = \\frac{sup(X \\cup Y)}{sup(X)}$\n",
    "\n",
    "## Naive AR Mining Algorithm\n",
    "\n",
    "* Pass over D, read transactions\n",
    "    * for current transaction T, make a counter for S for every subset S in T\n",
    "* Discard sets with counters less than a minimumSupport threshold\n",
    "* For each surviving set\n",
    "    * For each split S = X U Y, find confidence(X -> Y)\n",
    "        * If confidence is above a minConfidence threshold, report it as an AR\n",
    "        \n",
    "This would require $2^n$ counters, many of which would be discarded later on. This is terrible\n"
   ]
  }
 ],
 "metadata": {
  "kernelspec": {
   "display_name": "Python 3",
   "language": "python",
   "name": "python3"
  },
  "language_info": {
   "codemirror_mode": {
    "name": "ipython",
    "version": 3
   },
   "file_extension": ".py",
   "mimetype": "text/x-python",
   "name": "python",
   "nbconvert_exporter": "python",
   "pygments_lexer": "ipython3",
   "version": "3.5.1"
  }
 },
 "nbformat": 4,
 "nbformat_minor": 0
}
