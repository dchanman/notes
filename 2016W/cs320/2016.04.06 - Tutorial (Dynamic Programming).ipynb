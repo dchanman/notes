{
 "cells": [
  {
   "cell_type": "markdown",
   "metadata": {},
   "source": [
    "# Question 1 (Dynamic Programming)\n",
    "\n",
    "Typically backtracking involves setting a result array each time a new max/min is found"
   ]
  },
  {
   "cell_type": "markdown",
   "metadata": {},
   "source": [
    "# Question 2 (Dynamic Programming)\n",
    "\n",
    "> **Stressful Jobs**  \n",
    "Find the schedule that optimizes revenue by week `n`.  \n",
    "If you take a job $H_i$, you cannot take any job the week before.  \n",
    "\n",
    "\n",
    "Week   | 1  | 2  | 3  | 4\n",
    "-------|----|----|----|--------     \n",
    " $L_i$ | 10 | 1  | 10 | 10\n",
    " $H_i$ | 20 | 50 | 20 | 15\n",
    " \n",
    " ## Recurrence\n",
    " \n",
    " ```\n",
    " best[i].lowstress = L[i] + best[i-1].any\n",
    " best[i].highstress = H[i] + best[i-1].nojob\n",
    " best[i].nojob = best[i-1].any\n",
    " best[i].any = max(best[i].highstress, best[i].lowstress, best[i].nojob) \n",
    " ```\n",
    " \n",
    " The running time would be $O(n)$\n",
    " \n"
   ]
  }
 ],
 "metadata": {
  "kernelspec": {
   "display_name": "Python 3",
   "language": "python",
   "name": "python3"
  },
  "language_info": {
   "codemirror_mode": {
    "name": "ipython",
    "version": 3
   },
   "file_extension": ".py",
   "mimetype": "text/x-python",
   "name": "python",
   "nbconvert_exporter": "python",
   "pygments_lexer": "ipython3",
   "version": "3.5.1"
  }
 },
 "nbformat": 4,
 "nbformat_minor": 0
}
