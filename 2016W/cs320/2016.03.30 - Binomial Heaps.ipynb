{
 "cells": [
  {
   "cell_type": "markdown",
   "metadata": {},
   "source": [
    "# Binomial Heaps\n",
    "\n",
    "Store them as a list of trees. Each index *k* of the list will either point to a list of order *k* or to *nil*.\n",
    "\n",
    "Notice how you can look at the binary representation of the number of nodes. Each 1 corresponds to a tree at that index.\n",
    "\n",
    "## Amortized Analysis\n",
    "\n",
    "Consider a binomial heap with *n* nodes.\n",
    "\n",
    "**Operations**\n",
    "* Min (find min value)\n",
    "    * check the root node of each tree, return the minimum\n",
    "    * O(number of digits of binary representation of n) = $O(logn)$\n",
    "* Union\n",
    "    * Notice how two binomial treesof order *k* can be combined to form a binomial tree of order *k+1*\n",
    "    * Pick one tree as the larger tree and the other as a smaller tree. Combine their trees\n",
    "    * Notice how you'll have to \"carry over\" trees if needed\n",
    "    * The amount of work is the same as doing binary addition on two numbers\n",
    "    * This is done in $O(logn)$\n",
    "        * Each *i* takes a constant amount of operations\n",
    "        * * $\\lfloor log_2 n \\rfloor$, where *n* is the size of the union\n",
    "\n",
    "Everything from this point on will reuse `union` and `min`\n",
    "\n",
    "* Insert\n",
    "    * Union with a binomial tree of a single element\n",
    "* ExtractMin\n",
    "    * Remove the entire tree containing min node\n",
    "    * Union the original heap with all of children trees\n",
    "    * Complexity $O(logn)$\n",
    "        * finding min takes logn\n",
    "        * all the unions take logn\n",
    "* DecreaseKey\n",
    "    * Call `heapifyUp` in the affected binary heap\n",
    "* Delete\n",
    "    * Call decreaseKey on the node to set it to $-\\inf$, it will bubble up to the top\n",
    "    * Use `extractMin`\n",
    "* BuildHeap\n",
    "    * Call `insert` on each element\n",
    "    * Trivial time complexity: $O(n log n)$\n",
    "    * However, a better bound would be $O(n)$"
   ]
  }
 ],
 "metadata": {
  "kernelspec": {
   "display_name": "Python 3",
   "language": "python",
   "name": "python3"
  },
  "language_info": {
   "codemirror_mode": {
    "name": "ipython",
    "version": 3
   },
   "file_extension": ".py",
   "mimetype": "text/x-python",
   "name": "python",
   "nbconvert_exporter": "python",
   "pygments_lexer": "ipython3",
   "version": "3.5.1"
  }
 },
 "nbformat": 4,
 "nbformat_minor": 0
}
