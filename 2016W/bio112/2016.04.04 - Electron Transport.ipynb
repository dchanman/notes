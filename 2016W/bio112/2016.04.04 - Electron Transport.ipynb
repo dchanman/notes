{
 "cells": [
  {
   "cell_type": "markdown",
   "metadata": {},
   "source": [
    "### Prereading Check\n",
    "\n",
    "> Electron transport chains are very valuable to many kinds of cells because of their ability to...\n",
    "\n",
    "* convert energy into a useable form.\n",
    "* NOT use the power of a proton (H+) gradient. This is the role of ATP synthase"
   ]
  },
  {
   "cell_type": "markdown",
   "metadata": {},
   "source": [
    "# Mitochondria\n",
    "\n",
    "> Considering H+ ions, what kind of transport is the pump?\n",
    "\n",
    "* Active transport!!!\n",
    "\n",
    "> Which ETC complexes pump protons across?\n",
    "\n",
    "* Complexes I, III, IV\n",
    "\n",
    "## ATP Synthase: A molecular turbine\n",
    "\n",
    "* ATP synthase takes the electrochemical gradient and translates it to rotational energy\n",
    "* Each \"spin\" of the rotor takes ADP and Pi and makes ATP\n",
    "* When the ATP concentration is too high, the pump acts in reverse and pumps out protons"
   ]
  }
 ],
 "metadata": {
  "kernelspec": {
   "display_name": "Python 3",
   "language": "python",
   "name": "python3"
  },
  "language_info": {
   "codemirror_mode": {
    "name": "ipython",
    "version": 3
   },
   "file_extension": ".py",
   "mimetype": "text/x-python",
   "name": "python",
   "nbconvert_exporter": "python",
   "pygments_lexer": "ipython3",
   "version": "3.5.1"
  }
 },
 "nbformat": 4,
 "nbformat_minor": 0
}
