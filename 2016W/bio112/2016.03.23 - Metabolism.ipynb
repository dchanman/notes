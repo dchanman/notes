{
 "cells": [
  {
   "cell_type": "markdown",
   "metadata": {},
   "source": [
    "# Metabolism\n",
    "\n",
    "**Metabolism** is the set of biochemical reactions that transform biomolecules and transfers energy\n",
    "* **Catabolism** transforms chemical energy into useful energy (spontaneous)\n",
    "* **Anabolism** stores chemical energy (nonspontaneous)\n",
    "\n",
    "### Clicker\n",
    "> Which of the changes in chemical systems allow free energy to do work\n",
    "\n",
    "* change form weakly bonded to strongly bonded (decrease in enthalpy)\n",
    "* change from motionally restricted to motionally freer (increase in entropy)\n",
    "\n",
    "In metabolism, enthalpy is the key factor dictating whether a reaction is spontaneous. \n",
    "\n",
    "**Enthalpy** is the **difference in the amount of energy needed to break all chemical bonds in the initial and final states**\n",
    "\n",
    "## Anabolism\n",
    "Anabolic reactions have **positive $\\Delta G$** and cannot happen spontaneously.  \n",
    "These reactions must be coupled with a spontaneous reaction\n",
    "\n",
    "ATP drives endergonic reactions\n",
    "> When an enzyme or substrate gets phosphorylated, the exergonic phosphorylation rxn is coupled to an endergonic rxn\n",
    "\n",
    "Monomers are enzymatically linked with an NTP\n",
    "* (ATP, UTP, CTP, GTP) -> process referred to as *activation*\n",
    "\n",
    "* High energy phosphate groups from ATP are transferred to intermediates, increasing the free energy of intermediates (lower stability)\n",
    "* Removal of the high energy phosphate groups from the activated intermediates in coupled reactions result in a decrease in free energy (higher stability)\n",
    "\n",
    "### Clicker\n",
    "\n",
    "> One reason why ATP hydrolysis is spontaneous is:\n",
    "\n",
    "* The reaction goes from a weakly bonded state to a strongly bonded state\n",
    "\n",
    "# Summary\n",
    "* Organisms intake energy source to transform into a useful form to do work (eg. anabolic rxns like macromolecule synthesis)\n",
    "    * organic molecules have high potential energy\n",
    "    * more reduced, more unstable = more energy\n",
    "* Cell caputes this energy through many many reactions\n",
    "    * this is the process of aerobic cellular respiration\n",
    "    * energy captured through redox\n",
    "    * "
   ]
  }
 ],
 "metadata": {
  "kernelspec": {
   "display_name": "Python 3",
   "language": "python",
   "name": "python3"
  },
  "language_info": {
   "codemirror_mode": {
    "name": "ipython",
    "version": 3
   },
   "file_extension": ".py",
   "mimetype": "text/x-python",
   "name": "python",
   "nbconvert_exporter": "python",
   "pygments_lexer": "ipython3",
   "version": "3.5.1"
  }
 },
 "nbformat": 4,
 "nbformat_minor": 0
}
