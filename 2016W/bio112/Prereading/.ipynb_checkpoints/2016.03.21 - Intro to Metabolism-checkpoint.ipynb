{
 "cells": [
  {
   "cell_type": "markdown",
   "metadata": {},
   "source": [
    "# 6.1 An Overview of Metabolism\n",
    "\n",
    "## Organisms can be classified according to their energy and carbon sources\n",
    "\n",
    "**Phototrophs** capture energy from sunlight.  \n",
    "**Chemotrophs** derive energy from organic molecules (eg. glucose)  \n",
    "**Autotrophs** convert $CO_2$ into glucose  \n",
    "**Heterotrophs** eat other organisms for carbon\n",
    "\n",
    "Plants are **photoautotrophs**  \n",
    "Animals are **chemoheterotrophs**\n",
    "\n",
    "Glucose is important because it can be broken down to make $CO_2$, $H_2O$ and energy in the form of ATP bonds.\n",
    "\n",
    "## Metabolism is the set of chemical reactions that sustain life\n",
    "\n",
    "**Metabolism** is the entire set of chemical reactions that includes\n",
    "* building and breaking down of sugars\n",
    "* harnessing and release of energy in the process\n",
    "\n",
    "**Catabolism** breaks down molecules into smaller units and produces ATP.\n",
    "**Anabolism** builds molecules from smaller units and requires energy, usually ATP"
   ]
  },
  {
   "cell_type": "markdown",
   "metadata": {},
   "source": [
    "# 6.2 Energy\n",
    "\n",
    "**Energy** is the system's capacity to do work. A cell's *work* is synthesizing DNA, RNA, proteins, and internal/external transport.\n",
    "\n",
    "**Kinetic energy** is the energy of motion  \n",
    "**Potential energy** is stored energy, depending on the structure of an object relative to its surroundings\n",
    "\n",
    "**Chemical energy** is a form of potential energy. Energy is released when electrons move closer to the nucleus. Energy is required to move electrons further from the nucleus. **Chemical bonds** hold electrons far from atoms, so they store a large amount of chemical potential energy.\n",
    "\n",
    "## ATP is the cell's energy currency\n",
    "ATP, or *adenosine triphosphate*, is used to drive many cellular processes. Chemical energy carried in carbohydrates, lipids, and proteins are converted to ATP.\n",
    "\n",
    "The **bonds connecting the phosphate groups** contains the energy for ATP. At physiological pH, the phosphate groups are negatively charged and tend to repel each other. When the bonds are broken, energy is released."
   ]
  },
  {
   "cell_type": "markdown",
   "metadata": {},
   "source": [
    "# 6.4 Chemical Reactions\n",
    "## Chemical reactions occur when molecules interact\n",
    "\n",
    "Reactants are transformed into products.Atoms stay the same, bonds change.\n",
    "\n",
    "Reversible reactions use a double arrow; these reactions mean products can react to form reactants.\n",
    "\n",
    "$$CO_2 + H_2O \\leftrightarrow H_2CO_3$$\n",
    "\n",
    "The direction of a reversible reaction can be influenced by concentrations of reactants and products.\n",
    "\n",
    "## Chemical reactions are subject to the laws of thermodynamics\n",
    "$-\\Delta G$ are **exergonic** and spontaneous  \n",
    "$+\\Delta G$ are **endogonic** and nonspontaneous  \n",
    "\n",
    "**Enthalpy (H)** is the total energy  \n",
    "**Entropy (S)** is the degree of disorder  \n",
    "**Absolute temperature (T)** is in Kelvin  \n",
    "**Gibbs free energy (G)** is the energy available to do work\n",
    "\n",
    "$$\\Delta G = \\Delta H - T\\Delta S$$\n",
    "\n",
    "## The hydrolysis of ATP releases energy\n",
    "\n",
    "$$ATP + H_2O \\rightarrow ADP + P_i$$\n",
    "\n",
    "This is an exergonic reaction that releases energy.\n",
    "* ADP has less chemical potential energy, so it has $-\\Delta H$\n",
    "* ATP is broken down into multiple molecules (ADP, $P_i$), so $+ \\Delta S$\n",
    "\n",
    "## Non-spontaneous reactions are often coupled to spontaneous reactions\n",
    "\n",
    "If $A \\rightarrow B$ is spontaneous, $B \\rightarrow A$ is not. \n",
    "\n",
    "**Energetic coupling** uses a spontaneous reaction to drive a nonspontaneous one.\n",
    "\n",
    "$$A \\rightarrow B, \\Delta G_1 > 0 \\text{ (energy consumed)} \\\\\n",
    "B \\rightarrow C, \\Delta G_2 < 0 \\text{ (energy released)}$$\n",
    "\n",
    "The overall $\\Delta G$ is negative for a coupled reaction."
   ]
  }
 ],
 "metadata": {
  "kernelspec": {
   "display_name": "Python 3",
   "language": "python",
   "name": "python3"
  },
  "language_info": {
   "codemirror_mode": {
    "name": "ipython",
    "version": 3
   },
   "file_extension": ".py",
   "mimetype": "text/x-python",
   "name": "python",
   "nbconvert_exporter": "python",
   "pygments_lexer": "ipython3",
   "version": "3.5.1"
  }
 },
 "nbformat": 4,
 "nbformat_minor": 0
}
