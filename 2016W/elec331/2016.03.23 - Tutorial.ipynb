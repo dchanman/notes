{
 "cells": [
  {
   "cell_type": "markdown",
   "metadata": {},
   "source": [
    "> Suppose a host has a 2 million byte file. Host will send this file over a link with MTU of 1500 bytes. How many datagrams do we need?\n",
    "\n",
    "**Bytes per datagram payload:**  \n",
    "$1500 - (20 + 20) = 1460 \\text{datagrams}$\n",
    "\n",
    "**Number of payloads:**  \n",
    "$\\frac{2000000}{1460} = 1369 \\text{, with 1260 bytes remaining}$\n",
    "\n",
    "**Total:**  \n",
    "$1369 + 1 = 1370$\n",
    "\n",
    "---"
   ]
  },
  {
   "cell_type": "markdown",
   "metadata": {},
   "source": [
    "# Activity 14\n",
    "\n",
    "> Dijkstra's Algorithm\n",
    "\n",
    "Common errors:\n",
    "* Make sure you do Dijkstra's from the perspective of the node. You have no prior knowledge of the entire network\n",
    "\n",
    "Possible questions:\n",
    "* interpreting the chart\n",
    "    * determining path cost\n",
    "    * determining paths\n",
    "* translating chart back to graph\n",
    "* writing a forwarding table from a dijkstra chart\n",
    "\n",
    "#### Forwarding Table\n",
    "Example for a node *u*:\n",
    "\n",
    "Destination | Link\n",
    "---|---\n",
    "a | (u,v)\n",
    "b | (u,v)\n",
    "c | (u,w)\n",
    "d | (u,w)\n",
    "e | (u,w)\n",
    "v | (u,v)\n",
    "w | (u,w)\n",
    "\n",
    "All we need to know is a mapping for a **destination** to an adjacent **link**\n",
    "\n",
    "---"
   ]
  },
  {
   "cell_type": "markdown",
   "metadata": {},
   "source": [
    "# Activity 11\n",
    "\n",
    "> 1. A class C subnet (/24) could accomodate up to how many hosts?\n",
    "\n",
    "IPv4 has a 32-bit IP address value. If 24 bits are used for the subnet, then 8 bits are left for identifying hosts. Then we can have **256** addresses.\n",
    "\n",
    "However, 0 is reserved for the network itself, and 255 is reserved for broadcast. Then we have **254** valid addresses.\n",
    "\n",
    "Notice:\n",
    "```\n",
    "aaa.bbb.ccc.ddd\n",
    "|          |    | \n",
    "<--SUBNET-->    |\n",
    "           |    |\n",
    "           <HOST>\n",
    "```\n",
    "\n",
    "Also notice how subnet masks work. (/24) would be **255.255.255.0**\n",
    "\n",
    "---"
   ]
  },
  {
   "cell_type": "markdown",
   "metadata": {},
   "source": [
    "# Activity 11\n",
    "\n",
    "> A datagram of 4000 bytes (20 bytes of IP header + 3980 bytes of payload) arrives at a router and must be forwarded to a link with an MTU of 1500 bytes. Suppose the original datagram is stamped with an identification number of 777.\n",
    " 1. How many fragments are there?\n",
    " 2. Specify total size, frag-id, frag flag value, and value of frag offset\n",
    " \n",
    "Solution is on **Slide 4-24**\n",
    "\n",
    "A 4000 byte datagram would be divided into:\n",
    "* 1500 bytes (1480 payload) ID 777, Fragflag 1, offset 0\n",
    "* 1500 bytes (1480 payload) ID 777, Fragflag 1, offset 1480/8 = 185 \n",
    "* 1040 bytes (1020 payload) ID 777, Fragflag 0, offset 2960/8 = 370\n",
    "\n",
    "2(1480) + 1020 = 3980 (original payload)\n",
    "\n",
    "---"
   ]
  },
  {
   "cell_type": "markdown",
   "metadata": {},
   "source": [
    "# Activity 11\n",
    "\n",
    "> Consider an IP subnet with prefix 129.17.129.96/27. Provide the range of IP addresses that can be addressable\n",
    "\n",
    "The /27 means we only have 5 bits to give to hosts.\n",
    "* 96 is 01100000 in binary.\n",
    "* Our valid range is then 01100001 to 01111110 (leaving the usual 2 hosts out for gateway/broadcast)\n",
    "\n",
    "Valid range: **129.17.129.97** - **129.17.129.126**\n",
    "\n",
    "> Assume a company owns this block of addresses and wants to create four subnets with the same number of hosts. What would be the prefixes for the four IP subnets?\n",
    "\n",
    "We need 2 extra bits for 4 additional subnets\n",
    "* 01100XXX -> 129.17.129.96/29\n",
    "* 01101XXX -> 129.17.129.104/29\n",
    "* 01110XXX -> 129.17.129.112/29\n",
    "* 01111XXX -> 129.17.129.120/29"
   ]
  },
  {
   "cell_type": "markdown",
   "metadata": {},
   "source": [
    "# Activity 12\n",
    "\n",
    "> Explain longest prefix matching\n",
    "\n",
    "IP forwarding table has destination address prefixes only. We forward to the longest prefix, as it's the most specific subnet.\n",
    "\n",
    "> Set up a network with address 24.34.112.235. Use internal subnet 192.168.1.0/24\n",
    "\n",
    "* Router external interface: 24.34.112.235\n",
    "* Router internal interface: 192.168.1.254 (default choice, no reason)\n",
    "* Host 1: 192.168.1.1\n",
    "* Host 2: 192.168.1.2\n",
    "* Host 3: 192.168.1.3\n",
    "\n",
    "## NAT\n",
    "\n",
    "> What does it mean that NAT allocates private IP addresses?\n",
    "\n",
    "Private addresses only have meaning to devices within that network. They are not known nor shared with the outside networks. They are not uniquely used in the internet.\n",
    "\n",
    "> Does a NAT router look like a router to the outside world?\n",
    "\n",
    "The NAT-enabled router does not look like a router. It looks like a single device with a single IP address\n",
    "\n",
    "The NAT-enabled router maps a port to an internal IP address.\n",
    "\n",
    "> How does a NAT router obtain its own IP and how does it provide IP addresses to the hosts within the private network?\n",
    "\n",
    "Most likely DHCP.\n",
    "* DHCP from the ISP's DHCP server\n",
    "* Runs its own DHCP server for all internal hosts"
   ]
  }
 ],
 "metadata": {
  "kernelspec": {
   "display_name": "Python 3",
   "language": "python",
   "name": "python3"
  },
  "language_info": {
   "codemirror_mode": {
    "name": "ipython",
    "version": 3
   },
   "file_extension": ".py",
   "mimetype": "text/x-python",
   "name": "python",
   "nbconvert_exporter": "python",
   "pygments_lexer": "ipython3",
   "version": "3.5.1"
  }
 },
 "nbformat": 4,
 "nbformat_minor": 0
}
